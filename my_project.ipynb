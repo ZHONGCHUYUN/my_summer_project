{
  "nbformat": 4,
  "nbformat_minor": 0,
  "metadata": {
    "colab": {
      "name": "my_project.ipynb",
      "version": "0.3.2",
      "provenance": [],
      "include_colab_link": true
    },
    "kernelspec": {
      "name": "python3",
      "display_name": "Python 3"
    },
    "accelerator": "GPU"
  },
  "cells": [
    {
      "cell_type": "markdown",
      "metadata": {
        "id": "view-in-github",
        "colab_type": "text"
      },
      "source": [
        "<a href=\"https://colab.research.google.com/github/ZHONGCHUYUN/my_summer_project/blob/master/my_project.ipynb\" target=\"_parent\"><img src=\"https://colab.research.google.com/assets/colab-badge.svg\" alt=\"Open In Colab\"/></a>"
      ]
    },
    {
      "cell_type": "code",
      "metadata": {
        "id": "Jg8ZAEwaU7wF",
        "colab_type": "code",
        "outputId": "f6644ca4-4e2a-4e24-9947-de2931009cd0",
        "colab": {
          "base_uri": "https://localhost:8080/",
          "height": 143
        }
      },
      "source": [
        "!git clone https://github.com/tobiascz/VideoPose3D.git\n",
        " "
      ],
      "execution_count": 0,
      "outputs": [
        {
          "output_type": "stream",
          "text": [
            "Cloning into 'VideoPose3D'...\n",
            "remote: Enumerating objects: 92, done.\u001b[K\n",
            "remote: Counting objects: 100% (92/92), done.\u001b[K\n",
            "remote: Compressing objects: 100% (70/70), done.\u001b[K\n",
            "remote: Total 260 (delta 45), reused 49 (delta 16), pack-reused 168\u001b[K\n",
            "Receiving objects: 100% (260/260), 45.50 MiB | 44.33 MiB/s, done.\n",
            "Resolving deltas: 100% (119/119), done.\n"
          ],
          "name": "stdout"
        }
      ]
    },
    {
      "cell_type": "code",
      "metadata": {
        "id": "tUn0MunGVADY",
        "colab_type": "code",
        "outputId": "d7dbfad2-2cc4-4022-e32b-1b7367ae03c8",
        "colab": {
          "base_uri": "https://localhost:8080/",
          "height": 35
        }
      },
      "source": [
        "!conda install pytorch-nightly -c pytorch"
      ],
      "execution_count": 0,
      "outputs": [
        {
          "output_type": "stream",
          "text": [
            "/bin/bash: conda: command not found\n"
          ],
          "name": "stdout"
        }
      ]
    },
    {
      "cell_type": "code",
      "metadata": {
        "id": "sZK-_leQVziC",
        "colab_type": "code",
        "outputId": "60f131f6-120d-444b-bc7a-b552d774f628",
        "colab": {
          "base_uri": "https://localhost:8080/",
          "height": 3007
        }
      },
      "source": [
        "!sudo apt-get update\n",
        "!sudo apt-get install -y --no-install-recommends \\\n",
        "      build-essential \\\n",
        "      git \\\n",
        "      libgoogle-glog-dev \\\n",
        "      libgtest-dev \\\n",
        "      libiomp-dev \\\n",
        "      libleveldb-dev \\\n",
        "      liblmdb-dev \\\n",
        "      libopencv-dev \\\n",
        "      libopenmpi-dev \\\n",
        "      libsnappy-dev \\\n",
        "      libprotobuf-dev \\\n",
        "      openmpi-bin \\\n",
        "      openmpi-doc \\\n",
        "      protobuf-compiler \\\n",
        "      python-dev \\\n",
        "      python-pip                          \n",
        "!pip install --user \\\n",
        "      future \\\n",
        "      numpy \\\n",
        "      protobuf \\\n",
        "      typing \\\n",
        "      hypothesis"
      ],
      "execution_count": 0,
      "outputs": [
        {
          "output_type": "stream",
          "text": [
            "\r0% [Working]\r            \rGet:1 http://security.ubuntu.com/ubuntu bionic-security InRelease [88.7 kB]\n",
            "Ign:2 https://developer.download.nvidia.com/compute/cuda/repos/ubuntu1804/x86_64  InRelease\n",
            "Hit:3 http://archive.ubuntu.com/ubuntu bionic InRelease\n",
            "Hit:4 http://ppa.launchpad.net/graphics-drivers/ppa/ubuntu bionic InRelease\n",
            "Ign:5 https://developer.download.nvidia.com/compute/machine-learning/repos/ubuntu1804/x86_64  InRelease\n",
            "Hit:6 https://developer.download.nvidia.com/compute/cuda/repos/ubuntu1804/x86_64  Release\n",
            "Hit:7 https://developer.download.nvidia.com/compute/machine-learning/repos/ubuntu1804/x86_64  Release\n",
            "Get:8 http://archive.ubuntu.com/ubuntu bionic-updates InRelease [88.7 kB]\n",
            "Get:9 http://security.ubuntu.com/ubuntu bionic-security/main amd64 Packages [424 kB]\n",
            "Hit:10 http://ppa.launchpad.net/marutter/c2d4u3.5/ubuntu bionic InRelease\n",
            "Get:11 http://security.ubuntu.com/ubuntu bionic-security/universe amd64 Packages [304 kB]\n",
            "Get:12 https://cloud.r-project.org/bin/linux/ubuntu bionic-cran35/ InRelease [3,609 B]\n",
            "Get:13 http://archive.ubuntu.com/ubuntu bionic-backports InRelease [74.6 kB]\n",
            "Get:16 http://archive.ubuntu.com/ubuntu bionic-updates/main amd64 Packages [776 kB]\n",
            "Get:17 http://archive.ubuntu.com/ubuntu bionic-updates/universe amd64 Packages [1,190 kB]\n",
            "Fetched 2,950 kB in 2s (1,685 kB/s)\n",
            "Reading package lists... Done\n",
            "Reading package lists... Done\n",
            "Building dependency tree       \n",
            "Reading state information... Done\n",
            "build-essential is already the newest version (12.4ubuntu1).\n",
            "python-dev is already the newest version (2.7.15~rc1-1).\n",
            "libopenmpi-dev is already the newest version (2.1.1-8).\n",
            "openmpi-bin is already the newest version (2.1.1-8).\n",
            "openmpi-bin set to manually installed.\n",
            "protobuf-compiler is already the newest version (3.0.0-9.1ubuntu1).\n",
            "git is already the newest version (1:2.17.1-1ubuntu0.4).\n",
            "libopencv-dev is already the newest version (3.2.0+dfsg-4ubuntu0.1).\n",
            "The following package was automatically installed and is no longer required:\n",
            "  libnvidia-common-410\n",
            "Use 'sudo apt autoremove' to remove it.\n",
            "The following additional packages will be installed:\n",
            "  googletest libgflags-dev libgflags2.2 libgoogle-glog0v5 libleveldb1v5\n",
            "  liblmdb0 libomp-dev libomp5 libprotobuf-lite10 python-pip-whl\n",
            "Suggested packages:\n",
            "  leveldb-doc libomp-doc\n",
            "Recommended packages:\n",
            "  lmdb-doc python-all-dev python-setuptools python-wheel\n",
            "The following NEW packages will be installed:\n",
            "  googletest libgflags-dev libgflags2.2 libgoogle-glog-dev libgoogle-glog0v5\n",
            "  libgtest-dev libiomp-dev libleveldb-dev libleveldb1v5 liblmdb-dev liblmdb0\n",
            "  libomp-dev libomp5 libprotobuf-dev libprotobuf-lite10 libsnappy-dev\n",
            "  openmpi-doc python-pip python-pip-whl\n",
            "0 upgraded, 19 newly installed, 0 to remove and 58 not upgraded.\n",
            "Need to get 5,181 kB of archives.\n",
            "After this operation, 23.7 MB of additional disk space will be used.\n",
            "Get:1 http://archive.ubuntu.com/ubuntu bionic/universe amd64 googletest amd64 1.8.0-6 [652 kB]\n",
            "Get:2 http://archive.ubuntu.com/ubuntu bionic/universe amd64 libgflags2.2 amd64 2.2.1-1 [72.4 kB]\n",
            "Get:3 http://archive.ubuntu.com/ubuntu bionic/universe amd64 libgflags-dev amd64 2.2.1-1 [86.1 kB]\n",
            "Get:4 http://archive.ubuntu.com/ubuntu bionic/universe amd64 libgoogle-glog0v5 amd64 0.3.5-1 [50.5 kB]\n",
            "Get:5 http://archive.ubuntu.com/ubuntu bionic/universe amd64 libgoogle-glog-dev amd64 0.3.5-1 [73.8 kB]\n",
            "Get:6 http://archive.ubuntu.com/ubuntu bionic/universe amd64 libgtest-dev amd64 1.8.0-6 [2,718 B]\n",
            "Get:7 http://archive.ubuntu.com/ubuntu bionic/main amd64 libleveldb1v5 amd64 1.20-2 [136 kB]\n",
            "Get:8 http://archive.ubuntu.com/ubuntu bionic/main amd64 libleveldb-dev amd64 1.20-2 [177 kB]\n",
            "Get:9 http://archive.ubuntu.com/ubuntu bionic-updates/universe amd64 liblmdb0 amd64 0.9.21-1ubuntu0.1 [44.6 kB]\n",
            "Get:10 http://archive.ubuntu.com/ubuntu bionic-updates/universe amd64 liblmdb-dev amd64 0.9.21-1ubuntu0.1 [59.6 kB]\n",
            "Get:11 http://archive.ubuntu.com/ubuntu bionic/main amd64 libprotobuf-lite10 amd64 3.0.0-9.1ubuntu1 [97.7 kB]\n",
            "Get:12 http://archive.ubuntu.com/ubuntu bionic-updates/universe amd64 python-pip-whl all 9.0.1-2.3~ubuntu1 [1,652 kB]\n",
            "Get:13 http://archive.ubuntu.com/ubuntu bionic-updates/universe amd64 python-pip all 9.0.1-2.3~ubuntu1 [151 kB]\n",
            "Get:14 http://archive.ubuntu.com/ubuntu bionic/universe amd64 libomp5 amd64 5.0.1-1 [234 kB]\n",
            "Get:15 http://archive.ubuntu.com/ubuntu bionic/universe amd64 libomp-dev amd64 5.0.1-1 [5,088 B]\n",
            "Get:16 http://archive.ubuntu.com/ubuntu bionic/universe amd64 libiomp-dev amd64 5.0.1-1 [3,532 B]\n",
            "Get:17 http://archive.ubuntu.com/ubuntu bionic/main amd64 libprotobuf-dev amd64 3.0.0-9.1ubuntu1 [959 kB]\n",
            "Get:18 http://archive.ubuntu.com/ubuntu bionic/main amd64 libsnappy-dev amd64 1.1.7-1 [27.2 kB]\n",
            "Get:19 http://archive.ubuntu.com/ubuntu bionic/universe amd64 openmpi-doc all 2.1.1-8 [697 kB]\n",
            "Fetched 5,181 kB in 1s (4,598 kB/s)\n",
            "debconf: unable to initialize frontend: Dialog\n",
            "debconf: (No usable dialog-like program is installed, so the dialog based frontend cannot be used. at /usr/share/perl5/Debconf/FrontEnd/Dialog.pm line 76, <> line 19.)\n",
            "debconf: falling back to frontend: Readline\n",
            "debconf: unable to initialize frontend: Readline\n",
            "debconf: (This frontend requires a controlling tty.)\n",
            "debconf: falling back to frontend: Teletype\n",
            "dpkg-preconfigure: unable to re-open stdin: \n",
            "Selecting previously unselected package googletest:amd64.\n",
            "(Reading database ... 130812 files and directories currently installed.)\n",
            "Preparing to unpack .../00-googletest_1.8.0-6_amd64.deb ...\n",
            "Unpacking googletest:amd64 (1.8.0-6) ...\n",
            "Selecting previously unselected package libgflags2.2.\n",
            "Preparing to unpack .../01-libgflags2.2_2.2.1-1_amd64.deb ...\n",
            "Unpacking libgflags2.2 (2.2.1-1) ...\n",
            "Selecting previously unselected package libgflags-dev.\n",
            "Preparing to unpack .../02-libgflags-dev_2.2.1-1_amd64.deb ...\n",
            "Unpacking libgflags-dev (2.2.1-1) ...\n",
            "Selecting previously unselected package libgoogle-glog0v5.\n",
            "Preparing to unpack .../03-libgoogle-glog0v5_0.3.5-1_amd64.deb ...\n",
            "Unpacking libgoogle-glog0v5 (0.3.5-1) ...\n",
            "Selecting previously unselected package libgoogle-glog-dev.\n",
            "Preparing to unpack .../04-libgoogle-glog-dev_0.3.5-1_amd64.deb ...\n",
            "Unpacking libgoogle-glog-dev (0.3.5-1) ...\n",
            "Selecting previously unselected package libgtest-dev:amd64.\n",
            "Preparing to unpack .../05-libgtest-dev_1.8.0-6_amd64.deb ...\n",
            "Unpacking libgtest-dev:amd64 (1.8.0-6) ...\n",
            "Selecting previously unselected package libleveldb1v5:amd64.\n",
            "Preparing to unpack .../06-libleveldb1v5_1.20-2_amd64.deb ...\n",
            "Unpacking libleveldb1v5:amd64 (1.20-2) ...\n",
            "Selecting previously unselected package libleveldb-dev:amd64.\n",
            "Preparing to unpack .../07-libleveldb-dev_1.20-2_amd64.deb ...\n",
            "Unpacking libleveldb-dev:amd64 (1.20-2) ...\n",
            "Selecting previously unselected package liblmdb0:amd64.\n",
            "Preparing to unpack .../08-liblmdb0_0.9.21-1ubuntu0.1_amd64.deb ...\n",
            "Unpacking liblmdb0:amd64 (0.9.21-1ubuntu0.1) ...\n",
            "Selecting previously unselected package liblmdb-dev:amd64.\n",
            "Preparing to unpack .../09-liblmdb-dev_0.9.21-1ubuntu0.1_amd64.deb ...\n",
            "Unpacking liblmdb-dev:amd64 (0.9.21-1ubuntu0.1) ...\n",
            "Selecting previously unselected package libprotobuf-lite10:amd64.\n",
            "Preparing to unpack .../10-libprotobuf-lite10_3.0.0-9.1ubuntu1_amd64.deb ...\n",
            "Unpacking libprotobuf-lite10:amd64 (3.0.0-9.1ubuntu1) ...\n",
            "Selecting previously unselected package python-pip-whl.\n",
            "Preparing to unpack .../11-python-pip-whl_9.0.1-2.3~ubuntu1_all.deb ...\n",
            "Unpacking python-pip-whl (9.0.1-2.3~ubuntu1) ...\n",
            "Selecting previously unselected package python-pip.\n",
            "Preparing to unpack .../12-python-pip_9.0.1-2.3~ubuntu1_all.deb ...\n",
            "Unpacking python-pip (9.0.1-2.3~ubuntu1) ...\n",
            "Selecting previously unselected package libomp5:amd64.\n",
            "Preparing to unpack .../13-libomp5_5.0.1-1_amd64.deb ...\n",
            "Unpacking libomp5:amd64 (5.0.1-1) ...\n",
            "Selecting previously unselected package libomp-dev.\n",
            "Preparing to unpack .../14-libomp-dev_5.0.1-1_amd64.deb ...\n",
            "Unpacking libomp-dev (5.0.1-1) ...\n",
            "Selecting previously unselected package libiomp-dev.\n",
            "Preparing to unpack .../15-libiomp-dev_5.0.1-1_amd64.deb ...\n",
            "Unpacking libiomp-dev (5.0.1-1) ...\n",
            "Selecting previously unselected package libprotobuf-dev:amd64.\n",
            "Preparing to unpack .../16-libprotobuf-dev_3.0.0-9.1ubuntu1_amd64.deb ...\n",
            "Unpacking libprotobuf-dev:amd64 (3.0.0-9.1ubuntu1) ...\n",
            "Selecting previously unselected package libsnappy-dev:amd64.\n",
            "Preparing to unpack .../17-libsnappy-dev_1.1.7-1_amd64.deb ...\n",
            "Unpacking libsnappy-dev:amd64 (1.1.7-1) ...\n",
            "Selecting previously unselected package openmpi-doc.\n",
            "Preparing to unpack .../18-openmpi-doc_2.1.1-8_all.deb ...\n",
            "Unpacking openmpi-doc (2.1.1-8) ...\n",
            "Setting up python-pip-whl (9.0.1-2.3~ubuntu1) ...\n",
            "Setting up libgflags2.2 (2.2.1-1) ...\n",
            "Setting up libgflags-dev (2.2.1-1) ...\n",
            "Setting up liblmdb0:amd64 (0.9.21-1ubuntu0.1) ...\n",
            "Setting up libomp5:amd64 (5.0.1-1) ...\n",
            "Setting up openmpi-doc (2.1.1-8) ...\n",
            "Setting up libleveldb1v5:amd64 (1.20-2) ...\n",
            "Setting up googletest:amd64 (1.8.0-6) ...\n",
            "Processing triggers for libc-bin (2.27-3ubuntu1) ...\n",
            "Setting up libsnappy-dev:amd64 (1.1.7-1) ...\n",
            "Setting up libgoogle-glog0v5 (0.3.5-1) ...\n",
            "Setting up libgtest-dev:amd64 (1.8.0-6) ...\n",
            "Setting up libomp-dev (5.0.1-1) ...\n",
            "Processing triggers for man-db (2.8.3-2ubuntu0.1) ...\n",
            "Setting up liblmdb-dev:amd64 (0.9.21-1ubuntu0.1) ...\n",
            "Setting up libprotobuf-lite10:amd64 (3.0.0-9.1ubuntu1) ...\n",
            "Setting up python-pip (9.0.1-2.3~ubuntu1) ...\n",
            "Setting up libiomp-dev (5.0.1-1) ...\n",
            "Setting up libprotobuf-dev:amd64 (3.0.0-9.1ubuntu1) ...\n",
            "Setting up libleveldb-dev:amd64 (1.20-2) ...\n",
            "Setting up libgoogle-glog-dev (0.3.5-1) ...\n",
            "Processing triggers for libc-bin (2.27-3ubuntu1) ...\n",
            "Requirement already satisfied: future in /usr/local/lib/python3.6/dist-packages (0.16.0)\n",
            "Requirement already satisfied: numpy in /usr/local/lib/python3.6/dist-packages (1.16.3)\n",
            "Requirement already satisfied: protobuf in /usr/local/lib/python3.6/dist-packages (3.7.1)\n",
            "Requirement already satisfied: typing in /usr/local/lib/python3.6/dist-packages (3.6.6)\n",
            "Collecting hypothesis\n",
            "\u001b[?25l  Downloading https://files.pythonhosted.org/packages/8d/53/a8a1414f2f44a87b2de1eb151e8d57a1c9a17e08ad7c5e60a3f478057223/hypothesis-4.18.3-py3-none-any.whl (260kB)\n",
            "\u001b[K     |████████████████████████████████| 266kB 2.9MB/s \n",
            "\u001b[?25hRequirement already satisfied: six>=1.9 in /usr/local/lib/python3.6/dist-packages (from protobuf) (1.12.0)\n",
            "Requirement already satisfied: setuptools in /usr/local/lib/python3.6/dist-packages (from protobuf) (41.0.1)\n",
            "Requirement already satisfied: attrs>=16.0.0 in /usr/local/lib/python3.6/dist-packages (from hypothesis) (19.1.0)\n",
            "Installing collected packages: hypothesis\n",
            "Successfully installed hypothesis-4.18.3\n"
          ],
          "name": "stdout"
        }
      ]
    },
    {
      "cell_type": "code",
      "metadata": {
        "id": "0RSYE3-uV5dT",
        "colab_type": "code",
        "outputId": "20029d13-e4bc-4a41-9f02-e367ab4360bb",
        "colab": {
          "base_uri": "https://localhost:8080/",
          "height": 107
        }
      },
      "source": [
        "!lsb_release -a"
      ],
      "execution_count": 0,
      "outputs": [
        {
          "output_type": "stream",
          "text": [
            "No LSB modules are available.\n",
            "Distributor ID:\tUbuntu\n",
            "Description:\tUbuntu 18.04.2 LTS\n",
            "Release:\t18.04\n",
            "Codename:\tbionic\n"
          ],
          "name": "stdout"
        }
      ]
    },
    {
      "cell_type": "code",
      "metadata": {
        "id": "8bw1gSMPWH57",
        "colab_type": "code",
        "outputId": "2c72dbc6-a5c4-42af-b3a7-396a9d14d259",
        "colab": {
          "base_uri": "https://localhost:8080/",
          "height": 197
        }
      },
      "source": [
        "!sudo apt-get install -y --no-install-recommends \\\n",
        "      libgflags-dev \\\n",
        "      cmake"
      ],
      "execution_count": 0,
      "outputs": [
        {
          "output_type": "stream",
          "text": [
            "Reading package lists... Done\n",
            "Building dependency tree       \n",
            "Reading state information... Done\n",
            "cmake is already the newest version (3.10.2-1ubuntu2).\n",
            "libgflags-dev is already the newest version (2.2.1-1).\n",
            "libgflags-dev set to manually installed.\n",
            "The following package was automatically installed and is no longer required:\n",
            "  libnvidia-common-410\n",
            "Use 'sudo apt autoremove' to remove it.\n",
            "0 upgraded, 0 newly installed, 0 to remove and 58 not upgraded.\n"
          ],
          "name": "stdout"
        }
      ]
    },
    {
      "cell_type": "code",
      "metadata": {
        "id": "BSuBz3SUWMUL",
        "colab_type": "code",
        "outputId": "11ce4083-6e18-4d3d-f994-7ab899bd3a4a",
        "colab": {
          "base_uri": "https://localhost:8080/",
          "height": 143
        }
      },
      "source": [
        "!git clone https://github.com/pytorch/pytorch.git && cd pytorch\n",
        "!git submodule update --init --recursive\n",
        "!python setup.py install"
      ],
      "execution_count": 0,
      "outputs": [
        {
          "output_type": "stream",
          "text": [
            "Cloning into 'pytorch'...\n",
            "remote: Enumerating objects: 208336, done.\u001b[K\n",
            "remote: Total 208336 (delta 0), reused 0 (delta 0), pack-reused 208336\n",
            "Receiving objects: 100% (208336/208336), 121.41 MiB | 25.78 MiB/s, done.\n",
            "Resolving deltas: 100% (161867/161867), done.\n",
            "fatal: not a git repository (or any of the parent directories): .git\n",
            "python3: can't open file 'setup.py': [Errno 2] No such file or directory\n"
          ],
          "name": "stdout"
        }
      ]
    },
    {
      "cell_type": "code",
      "metadata": {
        "id": "ArxGseM3WZGT",
        "colab_type": "code",
        "outputId": "eb4f29f5-6561-48e4-bd0a-fcc455bded04",
        "colab": {
          "base_uri": "https://localhost:8080/",
          "height": 35
        }
      },
      "source": [
        "!python -c 'from caffe2.python import core' 2>/dev/null && echo \"Success\" || echo \"Failure\""
      ],
      "execution_count": 0,
      "outputs": [
        {
          "output_type": "stream",
          "text": [
            "Success\n"
          ],
          "name": "stdout"
        }
      ]
    },
    {
      "cell_type": "code",
      "metadata": {
        "id": "5Z6V7dQLWm7C",
        "colab_type": "code",
        "outputId": "58d4f059-716e-4347-f7ea-bcfeba1ade0b",
        "colab": {
          "base_uri": "https://localhost:8080/",
          "height": 35
        }
      },
      "source": [
        "!ls"
      ],
      "execution_count": 0,
      "outputs": [
        {
          "output_type": "stream",
          "text": [
            "pytorch  sample_data  VideoPose3D\n"
          ],
          "name": "stdout"
        }
      ]
    },
    {
      "cell_type": "code",
      "metadata": {
        "id": "11cVJEliW0Uj",
        "colab_type": "code",
        "outputId": "369972a0-81c2-4301-99eb-4847cc484d32",
        "colab": {
          "base_uri": "https://localhost:8080/",
          "height": 107
        }
      },
      "source": [
        "!git clone https://github.com/cocodataset/cocoapi.git $COCOAPI"
      ],
      "execution_count": 0,
      "outputs": [
        {
          "output_type": "stream",
          "text": [
            "Cloning into 'cocoapi'...\n",
            "remote: Enumerating objects: 953, done.\u001b[K\n",
            "remote: Total 953 (delta 0), reused 0 (delta 0), pack-reused 953\u001b[K\n",
            "Receiving objects: 100% (953/953), 11.70 MiB | 30.02 MiB/s, done.\n",
            "Resolving deltas: 100% (566/566), done.\n"
          ],
          "name": "stdout"
        }
      ]
    },
    {
      "cell_type": "code",
      "metadata": {
        "id": "SXBacM3NXmLq",
        "colab_type": "code",
        "outputId": "17b8a159-c3c4-4983-eb87-753aaa479de3",
        "colab": {
          "base_uri": "https://localhost:8080/",
          "height": 35
        }
      },
      "source": [
        "!ls"
      ],
      "execution_count": 0,
      "outputs": [
        {
          "output_type": "stream",
          "text": [
            "cocoapi  sample_data\n"
          ],
          "name": "stdout"
        }
      ]
    },
    {
      "cell_type": "code",
      "metadata": {
        "id": "_2-QXGURXsjN",
        "colab_type": "code",
        "colab": {}
      },
      "source": [
        "!cd cocoapi/PythonAPI"
      ],
      "execution_count": 0,
      "outputs": []
    },
    {
      "cell_type": "code",
      "metadata": {
        "id": "BqC70ilDX0LJ",
        "colab_type": "code",
        "outputId": "a434d638-769e-4ba7-ed85-b398a6066127",
        "colab": {
          "base_uri": "https://localhost:8080/",
          "height": 35
        }
      },
      "source": [
        "!make install"
      ],
      "execution_count": 0,
      "outputs": [
        {
          "output_type": "stream",
          "text": [
            "make: *** No rule to make target 'install'.  Stop.\n"
          ],
          "name": "stdout"
        }
      ]
    },
    {
      "cell_type": "code",
      "metadata": {
        "id": "W1t0ixfKX1Kt",
        "colab_type": "code",
        "outputId": "06035ed6-23f4-4983-ec00-aed4f4fe4c0c",
        "colab": {
          "base_uri": "https://localhost:8080/",
          "height": 35
        }
      },
      "source": [
        "!ls"
      ],
      "execution_count": 0,
      "outputs": [
        {
          "output_type": "stream",
          "text": [
            "cocoapi  sample_data\n"
          ],
          "name": "stdout"
        }
      ]
    },
    {
      "cell_type": "code",
      "metadata": {
        "id": "z8_FkWK9X6Tu",
        "colab_type": "code",
        "colab": {}
      },
      "source": [
        "!cd cocoapi"
      ],
      "execution_count": 0,
      "outputs": []
    },
    {
      "cell_type": "code",
      "metadata": {
        "id": "ELjF7KPXX8iJ",
        "colab_type": "code",
        "outputId": "efef466d-d9c5-41f2-a497-093dade25d8b",
        "colab": {
          "base_uri": "https://localhost:8080/",
          "height": 35
        }
      },
      "source": [
        "!ls"
      ],
      "execution_count": 0,
      "outputs": [
        {
          "output_type": "stream",
          "text": [
            "cocoapi  sample_data\n"
          ],
          "name": "stdout"
        }
      ]
    },
    {
      "cell_type": "code",
      "metadata": {
        "id": "VEQjzjhLX9XA",
        "colab_type": "code",
        "outputId": "559f8b5e-49c6-4dca-e04d-288fbdbe4086",
        "colab": {
          "base_uri": "https://localhost:8080/",
          "height": 35
        }
      },
      "source": [
        "!cd COCOAPI"
      ],
      "execution_count": 0,
      "outputs": [
        {
          "output_type": "stream",
          "text": [
            "/bin/bash: line 0: cd: COCOAPI: No such file or directory\n"
          ],
          "name": "stdout"
        }
      ]
    },
    {
      "cell_type": "code",
      "metadata": {
        "id": "8-bim-B9YAG-",
        "colab_type": "code",
        "outputId": "2c9f0ced-6b89-4313-8617-5faa78ce678d",
        "colab": {
          "base_uri": "https://localhost:8080/",
          "height": 35
        }
      },
      "source": [
        "!ls"
      ],
      "execution_count": 0,
      "outputs": [
        {
          "output_type": "stream",
          "text": [
            "cocoapi  sample_data\n"
          ],
          "name": "stdout"
        }
      ]
    },
    {
      "cell_type": "code",
      "metadata": {
        "id": "X1wgISUvYBqB",
        "colab_type": "code",
        "outputId": "e8f319a2-8276-49f2-e965-4dc63f3e4cf5",
        "colab": {
          "base_uri": "https://localhost:8080/",
          "height": 35
        }
      },
      "source": [
        "!cd $COCOAPI/PythonAPI"
      ],
      "execution_count": 0,
      "outputs": [
        {
          "output_type": "stream",
          "text": [
            "/bin/bash: line 0: cd: /PythonAPI: No such file or directory\n"
          ],
          "name": "stdout"
        }
      ]
    },
    {
      "cell_type": "code",
      "metadata": {
        "id": "vEMY7fL4YGhV",
        "colab_type": "code",
        "colab": {}
      },
      "source": [
        "!cd .."
      ],
      "execution_count": 0,
      "outputs": []
    },
    {
      "cell_type": "code",
      "metadata": {
        "id": "AZLrJhUzYdGN",
        "colab_type": "code",
        "outputId": "006543d8-ea6b-408b-9aa2-1500de0d0196",
        "colab": {
          "base_uri": "https://localhost:8080/",
          "height": 35
        }
      },
      "source": [
        "!ls"
      ],
      "execution_count": 0,
      "outputs": [
        {
          "output_type": "stream",
          "text": [
            "cocoapi  sample_data\n"
          ],
          "name": "stdout"
        }
      ]
    },
    {
      "cell_type": "code",
      "metadata": {
        "id": "SdTzIXh1YeX8",
        "colab_type": "code",
        "colab": {}
      },
      "source": [
        "# COCOAPI=/path/to/clone/cocoapi\n",
        "!git clone https://github.com/cocodataset/cocoapi.git $COCOAPI\n",
        "%cd cocoapi/PythonAPI\n",
        "# Install into global site-packages\n",
        "!make install\n",
        "# Alternatively, if you do not have permissions or prefer\n",
        "# not to install the COCO API into global site-packages\n",
        "!python setup.py install --user"
      ],
      "execution_count": 0,
      "outputs": []
    },
    {
      "cell_type": "code",
      "metadata": {
        "id": "e1HJ-OmLZFPl",
        "colab_type": "code",
        "outputId": "9fe2414b-9719-43e8-9d66-aa1011c5f66f",
        "colab": {
          "base_uri": "https://localhost:8080/",
          "height": 107
        }
      },
      "source": [
        "# DETECTRON=/path/to/clone/detectron\n",
        "!git clone https://github.com/facebookresearch/detectron $DETECTRON\n",
        "!pip install -r $DETECTRON/requirements.txt\n",
        "%cd $DETECTRON && make\n",
        "!python $DETECTRON/detectron/tests/test_spatial_narrow_as_op.py"
      ],
      "execution_count": 27,
      "outputs": [
        {
          "output_type": "stream",
          "text": [
            "fatal: destination path 'detectron' already exists and is not an empty directory.\n",
            "\u001b[31mERROR: Could not open requirements file: [Errno 2] No such file or directory: '/requirements.txt'\u001b[0m\n",
            "[Errno 2] No such file or directory: '$DETECTRON && make'\n",
            "/content\n",
            "python3: can't open file '/detectron/tests/test_spatial_narrow_as_op.py': [Errno 2] No such file or directory\n"
          ],
          "name": "stdout"
        }
      ]
    },
    {
      "cell_type": "code",
      "metadata": {
        "id": "DvOaCgsAZhpb",
        "colab_type": "code",
        "outputId": "289cf8dd-22bb-4fa4-e0f7-15026e2da21b",
        "colab": {
          "base_uri": "https://localhost:8080/",
          "height": 53
        }
      },
      "source": [
        "!ls"
      ],
      "execution_count": 0,
      "outputs": [
        {
          "output_type": "stream",
          "text": [
            "build  Makefile\t\t pycocoEvalDemo.ipynb  pycocotools.egg-info\n",
            "dist   pycocoDemo.ipynb  pycocotools\t       setup.py\n"
          ],
          "name": "stdout"
        }
      ]
    },
    {
      "cell_type": "code",
      "metadata": {
        "id": "ja2UzTHvaHrV",
        "colab_type": "code",
        "outputId": "7b964eeb-4098-4c13-f36e-87571eb49d83",
        "colab": {
          "base_uri": "https://localhost:8080/",
          "height": 35
        }
      },
      "source": [
        "%cd .."
      ],
      "execution_count": 0,
      "outputs": [
        {
          "output_type": "stream",
          "text": [
            "/content/cocoapi\n"
          ],
          "name": "stdout"
        }
      ]
    },
    {
      "cell_type": "code",
      "metadata": {
        "id": "IY6J2ah6amEe",
        "colab_type": "code",
        "outputId": "9c9797e4-240c-4eb4-ce11-3b3bacc2049f",
        "colab": {
          "base_uri": "https://localhost:8080/",
          "height": 35
        }
      },
      "source": [
        "!pwd"
      ],
      "execution_count": 0,
      "outputs": [
        {
          "output_type": "stream",
          "text": [
            "/content/cocoapi\n"
          ],
          "name": "stdout"
        }
      ]
    },
    {
      "cell_type": "code",
      "metadata": {
        "id": "mKFNTMVJa3sC",
        "colab_type": "code",
        "colab": {
          "base_uri": "https://localhost:8080/",
          "height": 35
        },
        "outputId": "ba1b6de5-da01-4a80-b2e3-84b7edb7987b"
      },
      "source": [
        "!pwd"
      ],
      "execution_count": 28,
      "outputs": [
        {
          "output_type": "stream",
          "text": [
            "/content\n"
          ],
          "name": "stdout"
        }
      ]
    },
    {
      "cell_type": "code",
      "metadata": {
        "id": "jeD8kbEBcOd7",
        "colab_type": "code",
        "colab": {
          "base_uri": "https://localhost:8080/",
          "height": 35
        },
        "outputId": "6bce8f19-012c-4a98-bf32-1d1d8f8af76c"
      },
      "source": [
        "!ls"
      ],
      "execution_count": 29,
      "outputs": [
        {
          "output_type": "stream",
          "text": [
            "cocoapi  detectron  sample_data  VideoPose3D\n"
          ],
          "name": "stdout"
        }
      ]
    },
    {
      "cell_type": "code",
      "metadata": {
        "id": "_t3NhiYlcQ_C",
        "colab_type": "code",
        "colab": {
          "base_uri": "https://localhost:8080/",
          "height": 325
        },
        "outputId": "ce4a4c4a-5d22-4b5f-b544-6ede2f667e1e"
      },
      "source": [
        "%pip install -r detectron/requirements.txt"
      ],
      "execution_count": 32,
      "outputs": [
        {
          "output_type": "stream",
          "text": [
            "Requirement already satisfied: numpy>=1.13 in /usr/local/lib/python3.6/dist-packages (from -r detectron/requirements.txt (line 1)) (1.16.3)\n",
            "Requirement already satisfied: pyyaml>=3.12 in /usr/local/lib/python3.6/dist-packages (from -r detectron/requirements.txt (line 2)) (3.13)\n",
            "Requirement already satisfied: matplotlib in /usr/local/lib/python3.6/dist-packages (from -r detectron/requirements.txt (line 3)) (3.0.3)\n",
            "Requirement already satisfied: opencv-python>=3.2 in /usr/local/lib/python3.6/dist-packages (from -r detectron/requirements.txt (line 4)) (3.4.5.20)\n",
            "Requirement already satisfied: setuptools in /usr/local/lib/python3.6/dist-packages (from -r detectron/requirements.txt (line 5)) (41.0.1)\n",
            "Requirement already satisfied: Cython in /usr/local/lib/python3.6/dist-packages (from -r detectron/requirements.txt (line 6)) (0.29.7)\n",
            "Requirement already satisfied: mock in /usr/local/lib/python3.6/dist-packages (from -r detectron/requirements.txt (line 7)) (2.0.0)\n",
            "Requirement already satisfied: scipy in /usr/local/lib/python3.6/dist-packages (from -r detectron/requirements.txt (line 8)) (1.2.1)\n",
            "Requirement already satisfied: six in /usr/local/lib/python3.6/dist-packages (from -r detectron/requirements.txt (line 9)) (1.12.0)\n",
            "Requirement already satisfied: future in /usr/local/lib/python3.6/dist-packages (from -r detectron/requirements.txt (line 10)) (0.16.0)\n",
            "Requirement already satisfied: protobuf in /usr/local/lib/python3.6/dist-packages (from -r detectron/requirements.txt (line 11)) (3.7.1)\n",
            "Requirement already satisfied: cycler>=0.10 in /usr/local/lib/python3.6/dist-packages (from matplotlib->-r detectron/requirements.txt (line 3)) (0.10.0)\n",
            "Requirement already satisfied: python-dateutil>=2.1 in /usr/local/lib/python3.6/dist-packages (from matplotlib->-r detectron/requirements.txt (line 3)) (2.5.3)\n",
            "Requirement already satisfied: pyparsing!=2.0.4,!=2.1.2,!=2.1.6,>=2.0.1 in /usr/local/lib/python3.6/dist-packages (from matplotlib->-r detectron/requirements.txt (line 3)) (2.4.0)\n",
            "Requirement already satisfied: kiwisolver>=1.0.1 in /usr/local/lib/python3.6/dist-packages (from matplotlib->-r detectron/requirements.txt (line 3)) (1.1.0)\n",
            "Requirement already satisfied: pbr>=0.11 in /usr/local/lib/python3.6/dist-packages (from mock->-r detectron/requirements.txt (line 7)) (5.2.0)\n"
          ],
          "name": "stdout"
        }
      ]
    },
    {
      "cell_type": "code",
      "metadata": {
        "id": "fF7yULmAcVl3",
        "colab_type": "code",
        "colab": {
          "base_uri": "https://localhost:8080/",
          "height": 739
        },
        "outputId": "acfa3a38-b2a6-42a7-fd05-ebbcba56a678"
      },
      "source": [
        "!cd detectron && make"
      ],
      "execution_count": 34,
      "outputs": [
        {
          "output_type": "stream",
          "text": [
            "python setup.py develop --user\n",
            "Compiling detectron/utils/cython_bbox.pyx because it changed.\n",
            "Compiling detectron/utils/cython_nms.pyx because it changed.\n",
            "[1/2] Cythonizing detectron/utils/cython_bbox.pyx\n",
            "/usr/local/lib/python3.6/dist-packages/Cython/Compiler/Main.py:367: FutureWarning: Cython directive 'language_level' not set, using 2 for now (Py2). This will change in a later release! File: /content/detectron/detectron/utils/cython_bbox.pyx\n",
            "  tree = Parsing.p_module(s, pxd, full_module_name)\n",
            "[2/2] Cythonizing detectron/utils/cython_nms.pyx\n",
            "/usr/local/lib/python3.6/dist-packages/Cython/Compiler/Main.py:367: FutureWarning: Cython directive 'language_level' not set, using 2 for now (Py2). This will change in a later release! File: /content/detectron/detectron/utils/cython_nms.pyx\n",
            "  tree = Parsing.p_module(s, pxd, full_module_name)\n",
            "running develop\n",
            "running egg_info\n",
            "creating Detectron.egg-info\n",
            "writing Detectron.egg-info/PKG-INFO\n",
            "writing dependency_links to Detectron.egg-info/dependency_links.txt\n",
            "writing top-level names to Detectron.egg-info/top_level.txt\n",
            "writing manifest file 'Detectron.egg-info/SOURCES.txt'\n",
            "writing manifest file 'Detectron.egg-info/SOURCES.txt'\n",
            "running build_ext\n",
            "building 'detectron.utils.cython_bbox' extension\n",
            "creating build\n",
            "creating build/temp.linux-x86_64-3.6\n",
            "creating build/temp.linux-x86_64-3.6/detectron\n",
            "creating build/temp.linux-x86_64-3.6/detectron/utils\n",
            "x86_64-linux-gnu-gcc -pthread -DNDEBUG -g -fwrapv -O2 -Wall -g -fstack-protector-strong -Wformat -Werror=format-security -Wdate-time -D_FORTIFY_SOURCE=2 -fPIC -I/usr/local/lib/python3.6/dist-packages/numpy/core/include -I/usr/include/python3.6m -c detectron/utils/cython_bbox.c -o build/temp.linux-x86_64-3.6/detectron/utils/cython_bbox.o -Wno-cpp\n",
            "creating build/lib.linux-x86_64-3.6\n",
            "creating build/lib.linux-x86_64-3.6/detectron\n",
            "creating build/lib.linux-x86_64-3.6/detectron/utils\n",
            "x86_64-linux-gnu-gcc -pthread -shared -Wl,-O1 -Wl,-Bsymbolic-functions -Wl,-Bsymbolic-functions -Wl,-z,relro -Wl,-Bsymbolic-functions -Wl,-z,relro -g -fstack-protector-strong -Wformat -Werror=format-security -Wdate-time -D_FORTIFY_SOURCE=2 build/temp.linux-x86_64-3.6/detectron/utils/cython_bbox.o -o build/lib.linux-x86_64-3.6/detectron/utils/cython_bbox.cpython-36m-x86_64-linux-gnu.so\n",
            "building 'detectron.utils.cython_nms' extension\n",
            "x86_64-linux-gnu-gcc -pthread -DNDEBUG -g -fwrapv -O2 -Wall -g -fstack-protector-strong -Wformat -Werror=format-security -Wdate-time -D_FORTIFY_SOURCE=2 -fPIC -I/usr/local/lib/python3.6/dist-packages/numpy/core/include -I/usr/include/python3.6m -c detectron/utils/cython_nms.c -o build/temp.linux-x86_64-3.6/detectron/utils/cython_nms.o -Wno-cpp\n",
            "x86_64-linux-gnu-gcc -pthread -shared -Wl,-O1 -Wl,-Bsymbolic-functions -Wl,-Bsymbolic-functions -Wl,-z,relro -Wl,-Bsymbolic-functions -Wl,-z,relro -g -fstack-protector-strong -Wformat -Werror=format-security -Wdate-time -D_FORTIFY_SOURCE=2 build/temp.linux-x86_64-3.6/detectron/utils/cython_nms.o -o build/lib.linux-x86_64-3.6/detectron/utils/cython_nms.cpython-36m-x86_64-linux-gnu.so\n",
            "copying build/lib.linux-x86_64-3.6/detectron/utils/cython_bbox.cpython-36m-x86_64-linux-gnu.so -> detectron/utils\n",
            "copying build/lib.linux-x86_64-3.6/detectron/utils/cython_nms.cpython-36m-x86_64-linux-gnu.so -> detectron/utils\n",
            "Creating /root/.local/lib/python3.6/site-packages/Detectron.egg-link (link to .)\n",
            "Adding Detectron 0.0.0 to easy-install.pth file\n",
            "\n",
            "Installed /content/detectron\n",
            "Processing dependencies for Detectron==0.0.0\n",
            "Finished processing dependencies for Detectron==0.0.0\n"
          ],
          "name": "stdout"
        }
      ]
    },
    {
      "cell_type": "code",
      "metadata": {
        "id": "Jx6hQNkXck54",
        "colab_type": "code",
        "colab": {
          "base_uri": "https://localhost:8080/",
          "height": 35
        },
        "outputId": "fdb4a87f-6fd7-41fa-8358-4bd6352e917a"
      },
      "source": [
        "!ls"
      ],
      "execution_count": 35,
      "outputs": [
        {
          "output_type": "stream",
          "text": [
            "cocoapi  detectron  sample_data  VideoPose3D\n"
          ],
          "name": "stdout"
        }
      ]
    },
    {
      "cell_type": "code",
      "metadata": {
        "id": "QoiG22ABcoYI",
        "colab_type": "code",
        "colab": {
          "base_uri": "https://localhost:8080/",
          "height": 199
        },
        "outputId": "33e484bc-fab9-406e-b199-5714e445b514"
      },
      "source": [
        "!python detectron/detectron/tests/test_spatial_narrow_as_op.py"
      ],
      "execution_count": 36,
      "outputs": [
        {
          "output_type": "stream",
          "text": [
            "[E init_intrinsics_check.cc:43] CPU feature avx is present on your machine, but the Caffe2 binary is not compiled with it. It means you may not get the full speed of your CPU.\n",
            "[E init_intrinsics_check.cc:43] CPU feature avx2 is present on your machine, but the Caffe2 binary is not compiled with it. It means you may not get the full speed of your CPU.\n",
            "[E init_intrinsics_check.cc:43] CPU feature fma is present on your machine, but the Caffe2 binary is not compiled with it. It means you may not get the full speed of your CPU.\n",
            "Found Detectron ops lib: /usr/local/lib/python3.6/dist-packages/torch/lib/libcaffe2_detectron_ops_gpu.so\n",
            "...\n",
            "----------------------------------------------------------------------\n",
            "Ran 3 tests in 7.314s\n",
            "\n",
            "OK\n"
          ],
          "name": "stdout"
        }
      ]
    },
    {
      "cell_type": "code",
      "metadata": {
        "id": "LCcr3gZrcudc",
        "colab_type": "code",
        "colab": {
          "base_uri": "https://localhost:8080/",
          "height": 35
        },
        "outputId": "47384666-4a63-44c0-b9de-ac6231c84700"
      },
      "source": [
        "%cd detectron/demo"
      ],
      "execution_count": 37,
      "outputs": [
        {
          "output_type": "stream",
          "text": [
            "/content/detectron/demo\n"
          ],
          "name": "stdout"
        }
      ]
    },
    {
      "cell_type": "code",
      "metadata": {
        "id": "l_5u_-W1eCn4",
        "colab_type": "code",
        "colab": {}
      },
      "source": [
        "%mkdir test_images"
      ],
      "execution_count": 0,
      "outputs": []
    },
    {
      "cell_type": "code",
      "metadata": {
        "id": "mHU2k2gTeHEX",
        "colab_type": "code",
        "colab": {
          "base_uri": "https://localhost:8080/",
          "height": 125
        },
        "outputId": "0cddc6c7-1521-4f17-ffe3-2a42833b03ac"
      },
      "source": [
        "!ls"
      ],
      "execution_count": 39,
      "outputs": [
        {
          "output_type": "stream",
          "text": [
            "15673749081_767a7fa63a_k.jpg  33823288584_1d21cf0a26_k.jpg\n",
            "16004479832_a748d55f21_k.jpg  33887522274_eebd074106_k.jpg\n",
            "17790319373_bd19b24cfc_k.jpg  34501842524_3c858b3080_k.jpg\n",
            "18124840932_e42b3e377c_k.jpg  NOTICE\n",
            "19064748793_bb942deea1_k.jpg  output\n",
            "24274813513_0cfd2ce6d0_k.jpg  test_images\n"
          ],
          "name": "stdout"
        }
      ]
    },
    {
      "cell_type": "code",
      "metadata": {
        "id": "vHbNPhNxeoym",
        "colab_type": "code",
        "colab": {
          "base_uri": "https://localhost:8080/",
          "height": 35
        },
        "outputId": "b7de9d0c-f25d-41d1-e4d3-b952c07e9578"
      },
      "source": [
        "%cd /content/detectron"
      ],
      "execution_count": 40,
      "outputs": [
        {
          "output_type": "stream",
          "text": [
            "/content/detectron\n"
          ],
          "name": "stdout"
        }
      ]
    },
    {
      "cell_type": "code",
      "metadata": {
        "id": "VWq9TjsReIG7",
        "colab_type": "code",
        "colab": {
          "base_uri": "https://localhost:8080/",
          "height": 10549
        },
        "outputId": "5cf3732c-df9c-4c3e-f661-05433e8440bb"
      },
      "source": [
        "!python tools/infer_simple.py \\\n",
        "    --cfg configs/12_2017_baselines/e2e_mask_rcnn_R-101-FPN_2x.yaml \\\n",
        "    --output-dir /tmp/detectron-visualizations \\\n",
        "    --image-ext jpg \\\n",
        "    --wts https://dl.fbaipublicfiles.com/detectron/35861858/12_2017_baselines/e2e_mask_rcnn_R-101-FPN_2x.yaml.02_32_51.SgT4y1cO/output/train/coco_2014_train:coco_2014_valminusminival/generalized_rcnn/model_final.pkl \\\n",
        "    demo"
      ],
      "execution_count": 44,
      "outputs": [
        {
          "output_type": "stream",
          "text": [
            "Found Detectron ops lib: /usr/local/lib/python3.6/dist-packages/torch/lib/libcaffe2_detectron_ops_gpu.so\n",
            "[E init_intrinsics_check.cc:43] CPU feature avx is present on your machine, but the Caffe2 binary is not compiled with it. It means you may not get the full speed of your CPU.\n",
            "[E init_intrinsics_check.cc:43] CPU feature avx2 is present on your machine, but the Caffe2 binary is not compiled with it. It means you may not get the full speed of your CPU.\n",
            "[E init_intrinsics_check.cc:43] CPU feature fma is present on your machine, but the Caffe2 binary is not compiled with it. It means you may not get the full speed of your CPU.\n",
            "INFO io.py: 112: Downloading remote file https://dl.fbaipublicfiles.com/detectron/35861858/12_2017_baselines/e2e_mask_rcnn_R-101-FPN_2x.yaml.02_32_51.SgT4y1cO/output/train/coco_2014_train:coco_2014_valminusminival/generalized_rcnn/model_final.pkl to /tmp/detectron-download-cache/35861858/12_2017_baselines/e2e_mask_rcnn_R-101-FPN_2x.yaml.02_32_51.SgT4y1cO/output/train/coco_2014_train:coco_2014_valminusminival/generalized_rcnn/model_final.pkl\n",
            "  [============================================================] 100.0% of 490.5MB file  \n",
            "WARNING cnn.py:  25: [====DEPRECATE WARNING====]: you are creating an object from CNNModelHelper class which will be deprecated soon. Please use ModelHelper object with brew module. For more information, please refer to caffe2.ai and python/brew.py, python/brew_test.py for more information.\n",
            "INFO net.py:  60: Loading weights from: /tmp/detectron-download-cache/35861858/12_2017_baselines/e2e_mask_rcnn_R-101-FPN_2x.yaml.02_32_51.SgT4y1cO/output/train/coco_2014_train:coco_2014_valminusminival/generalized_rcnn/model_final.pkl\n",
            "INFO net.py:  96: conv1_w loaded from weights file into gpu_0/conv1_w: (64, 3, 7, 7)\n",
            "INFO net.py:  96: res_conv1_bn_s loaded from weights file into gpu_0/res_conv1_bn_s: (64,)\n",
            "INFO net.py:  96: res_conv1_bn_b loaded from weights file into gpu_0/res_conv1_bn_b: (64,)\n",
            "INFO net.py:  96: res2_0_branch2a_w loaded from weights file into gpu_0/res2_0_branch2a_w: (64, 64, 1, 1)\n",
            "INFO net.py:  96: res2_0_branch2a_bn_s loaded from weights file into gpu_0/res2_0_branch2a_bn_s: (64,)\n",
            "INFO net.py:  96: res2_0_branch2a_bn_b loaded from weights file into gpu_0/res2_0_branch2a_bn_b: (64,)\n",
            "INFO net.py:  96: res2_0_branch2b_w loaded from weights file into gpu_0/res2_0_branch2b_w: (64, 64, 3, 3)\n",
            "INFO net.py:  96: res2_0_branch2b_bn_s loaded from weights file into gpu_0/res2_0_branch2b_bn_s: (64,)\n",
            "INFO net.py:  96: res2_0_branch2b_bn_b loaded from weights file into gpu_0/res2_0_branch2b_bn_b: (64,)\n",
            "INFO net.py:  96: res2_0_branch2c_w loaded from weights file into gpu_0/res2_0_branch2c_w: (256, 64, 1, 1)\n",
            "INFO net.py:  96: res2_0_branch2c_bn_s loaded from weights file into gpu_0/res2_0_branch2c_bn_s: (256,)\n",
            "INFO net.py:  96: res2_0_branch2c_bn_b loaded from weights file into gpu_0/res2_0_branch2c_bn_b: (256,)\n",
            "INFO net.py:  96: res2_0_branch1_w loaded from weights file into gpu_0/res2_0_branch1_w: (256, 64, 1, 1)\n",
            "INFO net.py:  96: res2_0_branch1_bn_s loaded from weights file into gpu_0/res2_0_branch1_bn_s: (256,)\n",
            "INFO net.py:  96: res2_0_branch1_bn_b loaded from weights file into gpu_0/res2_0_branch1_bn_b: (256,)\n",
            "INFO net.py:  96: res2_1_branch2a_w loaded from weights file into gpu_0/res2_1_branch2a_w: (64, 256, 1, 1)\n",
            "INFO net.py:  96: res2_1_branch2a_bn_s loaded from weights file into gpu_0/res2_1_branch2a_bn_s: (64,)\n",
            "INFO net.py:  96: res2_1_branch2a_bn_b loaded from weights file into gpu_0/res2_1_branch2a_bn_b: (64,)\n",
            "INFO net.py:  96: res2_1_branch2b_w loaded from weights file into gpu_0/res2_1_branch2b_w: (64, 64, 3, 3)\n",
            "INFO net.py:  96: res2_1_branch2b_bn_s loaded from weights file into gpu_0/res2_1_branch2b_bn_s: (64,)\n",
            "INFO net.py:  96: res2_1_branch2b_bn_b loaded from weights file into gpu_0/res2_1_branch2b_bn_b: (64,)\n",
            "INFO net.py:  96: res2_1_branch2c_w loaded from weights file into gpu_0/res2_1_branch2c_w: (256, 64, 1, 1)\n",
            "INFO net.py:  96: res2_1_branch2c_bn_s loaded from weights file into gpu_0/res2_1_branch2c_bn_s: (256,)\n",
            "INFO net.py:  96: res2_1_branch2c_bn_b loaded from weights file into gpu_0/res2_1_branch2c_bn_b: (256,)\n",
            "INFO net.py:  96: res2_2_branch2a_w loaded from weights file into gpu_0/res2_2_branch2a_w: (64, 256, 1, 1)\n",
            "INFO net.py:  96: res2_2_branch2a_bn_s loaded from weights file into gpu_0/res2_2_branch2a_bn_s: (64,)\n",
            "INFO net.py:  96: res2_2_branch2a_bn_b loaded from weights file into gpu_0/res2_2_branch2a_bn_b: (64,)\n",
            "INFO net.py:  96: res2_2_branch2b_w loaded from weights file into gpu_0/res2_2_branch2b_w: (64, 64, 3, 3)\n",
            "INFO net.py:  96: res2_2_branch2b_bn_s loaded from weights file into gpu_0/res2_2_branch2b_bn_s: (64,)\n",
            "INFO net.py:  96: res2_2_branch2b_bn_b loaded from weights file into gpu_0/res2_2_branch2b_bn_b: (64,)\n",
            "INFO net.py:  96: res2_2_branch2c_w loaded from weights file into gpu_0/res2_2_branch2c_w: (256, 64, 1, 1)\n",
            "INFO net.py:  96: res2_2_branch2c_bn_s loaded from weights file into gpu_0/res2_2_branch2c_bn_s: (256,)\n",
            "INFO net.py:  96: res2_2_branch2c_bn_b loaded from weights file into gpu_0/res2_2_branch2c_bn_b: (256,)\n",
            "INFO net.py:  96: res3_0_branch2a_w [+ momentum] loaded from weights file into gpu_0/res3_0_branch2a_w: (128, 256, 1, 1)\n",
            "INFO net.py:  96: res3_0_branch2a_bn_s loaded from weights file into gpu_0/res3_0_branch2a_bn_s: (128,)\n",
            "INFO net.py:  96: res3_0_branch2a_bn_b loaded from weights file into gpu_0/res3_0_branch2a_bn_b: (128,)\n",
            "INFO net.py:  96: res3_0_branch2b_w [+ momentum] loaded from weights file into gpu_0/res3_0_branch2b_w: (128, 128, 3, 3)\n",
            "INFO net.py:  96: res3_0_branch2b_bn_s loaded from weights file into gpu_0/res3_0_branch2b_bn_s: (128,)\n",
            "INFO net.py:  96: res3_0_branch2b_bn_b loaded from weights file into gpu_0/res3_0_branch2b_bn_b: (128,)\n",
            "INFO net.py:  96: res3_0_branch2c_w [+ momentum] loaded from weights file into gpu_0/res3_0_branch2c_w: (512, 128, 1, 1)\n",
            "INFO net.py:  96: res3_0_branch2c_bn_s loaded from weights file into gpu_0/res3_0_branch2c_bn_s: (512,)\n",
            "INFO net.py:  96: res3_0_branch2c_bn_b loaded from weights file into gpu_0/res3_0_branch2c_bn_b: (512,)\n",
            "INFO net.py:  96: res3_0_branch1_w [+ momentum] loaded from weights file into gpu_0/res3_0_branch1_w: (512, 256, 1, 1)\n",
            "INFO net.py:  96: res3_0_branch1_bn_s loaded from weights file into gpu_0/res3_0_branch1_bn_s: (512,)\n",
            "INFO net.py:  96: res3_0_branch1_bn_b loaded from weights file into gpu_0/res3_0_branch1_bn_b: (512,)\n",
            "INFO net.py:  96: res3_1_branch2a_w [+ momentum] loaded from weights file into gpu_0/res3_1_branch2a_w: (128, 512, 1, 1)\n",
            "INFO net.py:  96: res3_1_branch2a_bn_s loaded from weights file into gpu_0/res3_1_branch2a_bn_s: (128,)\n",
            "INFO net.py:  96: res3_1_branch2a_bn_b loaded from weights file into gpu_0/res3_1_branch2a_bn_b: (128,)\n",
            "INFO net.py:  96: res3_1_branch2b_w [+ momentum] loaded from weights file into gpu_0/res3_1_branch2b_w: (128, 128, 3, 3)\n",
            "INFO net.py:  96: res3_1_branch2b_bn_s loaded from weights file into gpu_0/res3_1_branch2b_bn_s: (128,)\n",
            "INFO net.py:  96: res3_1_branch2b_bn_b loaded from weights file into gpu_0/res3_1_branch2b_bn_b: (128,)\n",
            "INFO net.py:  96: res3_1_branch2c_w [+ momentum] loaded from weights file into gpu_0/res3_1_branch2c_w: (512, 128, 1, 1)\n",
            "INFO net.py:  96: res3_1_branch2c_bn_s loaded from weights file into gpu_0/res3_1_branch2c_bn_s: (512,)\n",
            "INFO net.py:  96: res3_1_branch2c_bn_b loaded from weights file into gpu_0/res3_1_branch2c_bn_b: (512,)\n",
            "INFO net.py:  96: res3_2_branch2a_w [+ momentum] loaded from weights file into gpu_0/res3_2_branch2a_w: (128, 512, 1, 1)\n",
            "INFO net.py:  96: res3_2_branch2a_bn_s loaded from weights file into gpu_0/res3_2_branch2a_bn_s: (128,)\n",
            "INFO net.py:  96: res3_2_branch2a_bn_b loaded from weights file into gpu_0/res3_2_branch2a_bn_b: (128,)\n",
            "INFO net.py:  96: res3_2_branch2b_w [+ momentum] loaded from weights file into gpu_0/res3_2_branch2b_w: (128, 128, 3, 3)\n",
            "INFO net.py:  96: res3_2_branch2b_bn_s loaded from weights file into gpu_0/res3_2_branch2b_bn_s: (128,)\n",
            "INFO net.py:  96: res3_2_branch2b_bn_b loaded from weights file into gpu_0/res3_2_branch2b_bn_b: (128,)\n",
            "INFO net.py:  96: res3_2_branch2c_w [+ momentum] loaded from weights file into gpu_0/res3_2_branch2c_w: (512, 128, 1, 1)\n",
            "INFO net.py:  96: res3_2_branch2c_bn_s loaded from weights file into gpu_0/res3_2_branch2c_bn_s: (512,)\n",
            "INFO net.py:  96: res3_2_branch2c_bn_b loaded from weights file into gpu_0/res3_2_branch2c_bn_b: (512,)\n",
            "INFO net.py:  96: res3_3_branch2a_w [+ momentum] loaded from weights file into gpu_0/res3_3_branch2a_w: (128, 512, 1, 1)\n",
            "INFO net.py:  96: res3_3_branch2a_bn_s loaded from weights file into gpu_0/res3_3_branch2a_bn_s: (128,)\n",
            "INFO net.py:  96: res3_3_branch2a_bn_b loaded from weights file into gpu_0/res3_3_branch2a_bn_b: (128,)\n",
            "INFO net.py:  96: res3_3_branch2b_w [+ momentum] loaded from weights file into gpu_0/res3_3_branch2b_w: (128, 128, 3, 3)\n",
            "INFO net.py:  96: res3_3_branch2b_bn_s loaded from weights file into gpu_0/res3_3_branch2b_bn_s: (128,)\n",
            "INFO net.py:  96: res3_3_branch2b_bn_b loaded from weights file into gpu_0/res3_3_branch2b_bn_b: (128,)\n",
            "INFO net.py:  96: res3_3_branch2c_w [+ momentum] loaded from weights file into gpu_0/res3_3_branch2c_w: (512, 128, 1, 1)\n",
            "INFO net.py:  96: res3_3_branch2c_bn_s loaded from weights file into gpu_0/res3_3_branch2c_bn_s: (512,)\n",
            "INFO net.py:  96: res3_3_branch2c_bn_b loaded from weights file into gpu_0/res3_3_branch2c_bn_b: (512,)\n",
            "INFO net.py:  96: res4_0_branch2a_w [+ momentum] loaded from weights file into gpu_0/res4_0_branch2a_w: (256, 512, 1, 1)\n",
            "INFO net.py:  96: res4_0_branch2a_bn_s loaded from weights file into gpu_0/res4_0_branch2a_bn_s: (256,)\n",
            "INFO net.py:  96: res4_0_branch2a_bn_b loaded from weights file into gpu_0/res4_0_branch2a_bn_b: (256,)\n",
            "INFO net.py:  96: res4_0_branch2b_w [+ momentum] loaded from weights file into gpu_0/res4_0_branch2b_w: (256, 256, 3, 3)\n",
            "INFO net.py:  96: res4_0_branch2b_bn_s loaded from weights file into gpu_0/res4_0_branch2b_bn_s: (256,)\n",
            "INFO net.py:  96: res4_0_branch2b_bn_b loaded from weights file into gpu_0/res4_0_branch2b_bn_b: (256,)\n",
            "INFO net.py:  96: res4_0_branch2c_w [+ momentum] loaded from weights file into gpu_0/res4_0_branch2c_w: (1024, 256, 1, 1)\n",
            "INFO net.py:  96: res4_0_branch2c_bn_s loaded from weights file into gpu_0/res4_0_branch2c_bn_s: (1024,)\n",
            "INFO net.py:  96: res4_0_branch2c_bn_b loaded from weights file into gpu_0/res4_0_branch2c_bn_b: (1024,)\n",
            "INFO net.py:  96: res4_0_branch1_w [+ momentum] loaded from weights file into gpu_0/res4_0_branch1_w: (1024, 512, 1, 1)\n",
            "INFO net.py:  96: res4_0_branch1_bn_s loaded from weights file into gpu_0/res4_0_branch1_bn_s: (1024,)\n",
            "INFO net.py:  96: res4_0_branch1_bn_b loaded from weights file into gpu_0/res4_0_branch1_bn_b: (1024,)\n",
            "INFO net.py:  96: res4_1_branch2a_w [+ momentum] loaded from weights file into gpu_0/res4_1_branch2a_w: (256, 1024, 1, 1)\n",
            "INFO net.py:  96: res4_1_branch2a_bn_s loaded from weights file into gpu_0/res4_1_branch2a_bn_s: (256,)\n",
            "INFO net.py:  96: res4_1_branch2a_bn_b loaded from weights file into gpu_0/res4_1_branch2a_bn_b: (256,)\n",
            "INFO net.py:  96: res4_1_branch2b_w [+ momentum] loaded from weights file into gpu_0/res4_1_branch2b_w: (256, 256, 3, 3)\n",
            "INFO net.py:  96: res4_1_branch2b_bn_s loaded from weights file into gpu_0/res4_1_branch2b_bn_s: (256,)\n",
            "INFO net.py:  96: res4_1_branch2b_bn_b loaded from weights file into gpu_0/res4_1_branch2b_bn_b: (256,)\n",
            "INFO net.py:  96: res4_1_branch2c_w [+ momentum] loaded from weights file into gpu_0/res4_1_branch2c_w: (1024, 256, 1, 1)\n",
            "INFO net.py:  96: res4_1_branch2c_bn_s loaded from weights file into gpu_0/res4_1_branch2c_bn_s: (1024,)\n",
            "INFO net.py:  96: res4_1_branch2c_bn_b loaded from weights file into gpu_0/res4_1_branch2c_bn_b: (1024,)\n",
            "INFO net.py:  96: res4_2_branch2a_w [+ momentum] loaded from weights file into gpu_0/res4_2_branch2a_w: (256, 1024, 1, 1)\n",
            "INFO net.py:  96: res4_2_branch2a_bn_s loaded from weights file into gpu_0/res4_2_branch2a_bn_s: (256,)\n",
            "INFO net.py:  96: res4_2_branch2a_bn_b loaded from weights file into gpu_0/res4_2_branch2a_bn_b: (256,)\n",
            "INFO net.py:  96: res4_2_branch2b_w [+ momentum] loaded from weights file into gpu_0/res4_2_branch2b_w: (256, 256, 3, 3)\n",
            "INFO net.py:  96: res4_2_branch2b_bn_s loaded from weights file into gpu_0/res4_2_branch2b_bn_s: (256,)\n",
            "INFO net.py:  96: res4_2_branch2b_bn_b loaded from weights file into gpu_0/res4_2_branch2b_bn_b: (256,)\n",
            "INFO net.py:  96: res4_2_branch2c_w [+ momentum] loaded from weights file into gpu_0/res4_2_branch2c_w: (1024, 256, 1, 1)\n",
            "INFO net.py:  96: res4_2_branch2c_bn_s loaded from weights file into gpu_0/res4_2_branch2c_bn_s: (1024,)\n",
            "INFO net.py:  96: res4_2_branch2c_bn_b loaded from weights file into gpu_0/res4_2_branch2c_bn_b: (1024,)\n",
            "INFO net.py:  96: res4_3_branch2a_w [+ momentum] loaded from weights file into gpu_0/res4_3_branch2a_w: (256, 1024, 1, 1)\n",
            "INFO net.py:  96: res4_3_branch2a_bn_s loaded from weights file into gpu_0/res4_3_branch2a_bn_s: (256,)\n",
            "INFO net.py:  96: res4_3_branch2a_bn_b loaded from weights file into gpu_0/res4_3_branch2a_bn_b: (256,)\n",
            "INFO net.py:  96: res4_3_branch2b_w [+ momentum] loaded from weights file into gpu_0/res4_3_branch2b_w: (256, 256, 3, 3)\n",
            "INFO net.py:  96: res4_3_branch2b_bn_s loaded from weights file into gpu_0/res4_3_branch2b_bn_s: (256,)\n",
            "INFO net.py:  96: res4_3_branch2b_bn_b loaded from weights file into gpu_0/res4_3_branch2b_bn_b: (256,)\n",
            "INFO net.py:  96: res4_3_branch2c_w [+ momentum] loaded from weights file into gpu_0/res4_3_branch2c_w: (1024, 256, 1, 1)\n",
            "INFO net.py:  96: res4_3_branch2c_bn_s loaded from weights file into gpu_0/res4_3_branch2c_bn_s: (1024,)\n",
            "INFO net.py:  96: res4_3_branch2c_bn_b loaded from weights file into gpu_0/res4_3_branch2c_bn_b: (1024,)\n",
            "INFO net.py:  96: res4_4_branch2a_w [+ momentum] loaded from weights file into gpu_0/res4_4_branch2a_w: (256, 1024, 1, 1)\n",
            "INFO net.py:  96: res4_4_branch2a_bn_s loaded from weights file into gpu_0/res4_4_branch2a_bn_s: (256,)\n",
            "INFO net.py:  96: res4_4_branch2a_bn_b loaded from weights file into gpu_0/res4_4_branch2a_bn_b: (256,)\n",
            "INFO net.py:  96: res4_4_branch2b_w [+ momentum] loaded from weights file into gpu_0/res4_4_branch2b_w: (256, 256, 3, 3)\n",
            "INFO net.py:  96: res4_4_branch2b_bn_s loaded from weights file into gpu_0/res4_4_branch2b_bn_s: (256,)\n",
            "INFO net.py:  96: res4_4_branch2b_bn_b loaded from weights file into gpu_0/res4_4_branch2b_bn_b: (256,)\n",
            "INFO net.py:  96: res4_4_branch2c_w [+ momentum] loaded from weights file into gpu_0/res4_4_branch2c_w: (1024, 256, 1, 1)\n",
            "INFO net.py:  96: res4_4_branch2c_bn_s loaded from weights file into gpu_0/res4_4_branch2c_bn_s: (1024,)\n",
            "INFO net.py:  96: res4_4_branch2c_bn_b loaded from weights file into gpu_0/res4_4_branch2c_bn_b: (1024,)\n",
            "INFO net.py:  96: res4_5_branch2a_w [+ momentum] loaded from weights file into gpu_0/res4_5_branch2a_w: (256, 1024, 1, 1)\n",
            "INFO net.py:  96: res4_5_branch2a_bn_s loaded from weights file into gpu_0/res4_5_branch2a_bn_s: (256,)\n",
            "INFO net.py:  96: res4_5_branch2a_bn_b loaded from weights file into gpu_0/res4_5_branch2a_bn_b: (256,)\n",
            "INFO net.py:  96: res4_5_branch2b_w [+ momentum] loaded from weights file into gpu_0/res4_5_branch2b_w: (256, 256, 3, 3)\n",
            "INFO net.py:  96: res4_5_branch2b_bn_s loaded from weights file into gpu_0/res4_5_branch2b_bn_s: (256,)\n",
            "INFO net.py:  96: res4_5_branch2b_bn_b loaded from weights file into gpu_0/res4_5_branch2b_bn_b: (256,)\n",
            "INFO net.py:  96: res4_5_branch2c_w [+ momentum] loaded from weights file into gpu_0/res4_5_branch2c_w: (1024, 256, 1, 1)\n",
            "INFO net.py:  96: res4_5_branch2c_bn_s loaded from weights file into gpu_0/res4_5_branch2c_bn_s: (1024,)\n",
            "INFO net.py:  96: res4_5_branch2c_bn_b loaded from weights file into gpu_0/res4_5_branch2c_bn_b: (1024,)\n",
            "INFO net.py:  96: res4_6_branch2a_w [+ momentum] loaded from weights file into gpu_0/res4_6_branch2a_w: (256, 1024, 1, 1)\n",
            "INFO net.py:  96: res4_6_branch2a_bn_s loaded from weights file into gpu_0/res4_6_branch2a_bn_s: (256,)\n",
            "INFO net.py:  96: res4_6_branch2a_bn_b loaded from weights file into gpu_0/res4_6_branch2a_bn_b: (256,)\n",
            "INFO net.py:  96: res4_6_branch2b_w [+ momentum] loaded from weights file into gpu_0/res4_6_branch2b_w: (256, 256, 3, 3)\n",
            "INFO net.py:  96: res4_6_branch2b_bn_s loaded from weights file into gpu_0/res4_6_branch2b_bn_s: (256,)\n",
            "INFO net.py:  96: res4_6_branch2b_bn_b loaded from weights file into gpu_0/res4_6_branch2b_bn_b: (256,)\n",
            "INFO net.py:  96: res4_6_branch2c_w [+ momentum] loaded from weights file into gpu_0/res4_6_branch2c_w: (1024, 256, 1, 1)\n",
            "INFO net.py:  96: res4_6_branch2c_bn_s loaded from weights file into gpu_0/res4_6_branch2c_bn_s: (1024,)\n",
            "INFO net.py:  96: res4_6_branch2c_bn_b loaded from weights file into gpu_0/res4_6_branch2c_bn_b: (1024,)\n",
            "INFO net.py:  96: res4_7_branch2a_w [+ momentum] loaded from weights file into gpu_0/res4_7_branch2a_w: (256, 1024, 1, 1)\n",
            "INFO net.py:  96: res4_7_branch2a_bn_s loaded from weights file into gpu_0/res4_7_branch2a_bn_s: (256,)\n",
            "INFO net.py:  96: res4_7_branch2a_bn_b loaded from weights file into gpu_0/res4_7_branch2a_bn_b: (256,)\n",
            "INFO net.py:  96: res4_7_branch2b_w [+ momentum] loaded from weights file into gpu_0/res4_7_branch2b_w: (256, 256, 3, 3)\n",
            "INFO net.py:  96: res4_7_branch2b_bn_s loaded from weights file into gpu_0/res4_7_branch2b_bn_s: (256,)\n",
            "INFO net.py:  96: res4_7_branch2b_bn_b loaded from weights file into gpu_0/res4_7_branch2b_bn_b: (256,)\n",
            "INFO net.py:  96: res4_7_branch2c_w [+ momentum] loaded from weights file into gpu_0/res4_7_branch2c_w: (1024, 256, 1, 1)\n",
            "INFO net.py:  96: res4_7_branch2c_bn_s loaded from weights file into gpu_0/res4_7_branch2c_bn_s: (1024,)\n",
            "INFO net.py:  96: res4_7_branch2c_bn_b loaded from weights file into gpu_0/res4_7_branch2c_bn_b: (1024,)\n",
            "INFO net.py:  96: res4_8_branch2a_w [+ momentum] loaded from weights file into gpu_0/res4_8_branch2a_w: (256, 1024, 1, 1)\n",
            "INFO net.py:  96: res4_8_branch2a_bn_s loaded from weights file into gpu_0/res4_8_branch2a_bn_s: (256,)\n",
            "INFO net.py:  96: res4_8_branch2a_bn_b loaded from weights file into gpu_0/res4_8_branch2a_bn_b: (256,)\n",
            "INFO net.py:  96: res4_8_branch2b_w [+ momentum] loaded from weights file into gpu_0/res4_8_branch2b_w: (256, 256, 3, 3)\n",
            "INFO net.py:  96: res4_8_branch2b_bn_s loaded from weights file into gpu_0/res4_8_branch2b_bn_s: (256,)\n",
            "INFO net.py:  96: res4_8_branch2b_bn_b loaded from weights file into gpu_0/res4_8_branch2b_bn_b: (256,)\n",
            "INFO net.py:  96: res4_8_branch2c_w [+ momentum] loaded from weights file into gpu_0/res4_8_branch2c_w: (1024, 256, 1, 1)\n",
            "INFO net.py:  96: res4_8_branch2c_bn_s loaded from weights file into gpu_0/res4_8_branch2c_bn_s: (1024,)\n",
            "INFO net.py:  96: res4_8_branch2c_bn_b loaded from weights file into gpu_0/res4_8_branch2c_bn_b: (1024,)\n",
            "INFO net.py:  96: res4_9_branch2a_w [+ momentum] loaded from weights file into gpu_0/res4_9_branch2a_w: (256, 1024, 1, 1)\n",
            "INFO net.py:  96: res4_9_branch2a_bn_s loaded from weights file into gpu_0/res4_9_branch2a_bn_s: (256,)\n",
            "INFO net.py:  96: res4_9_branch2a_bn_b loaded from weights file into gpu_0/res4_9_branch2a_bn_b: (256,)\n",
            "INFO net.py:  96: res4_9_branch2b_w [+ momentum] loaded from weights file into gpu_0/res4_9_branch2b_w: (256, 256, 3, 3)\n",
            "INFO net.py:  96: res4_9_branch2b_bn_s loaded from weights file into gpu_0/res4_9_branch2b_bn_s: (256,)\n",
            "INFO net.py:  96: res4_9_branch2b_bn_b loaded from weights file into gpu_0/res4_9_branch2b_bn_b: (256,)\n",
            "INFO net.py:  96: res4_9_branch2c_w [+ momentum] loaded from weights file into gpu_0/res4_9_branch2c_w: (1024, 256, 1, 1)\n",
            "INFO net.py:  96: res4_9_branch2c_bn_s loaded from weights file into gpu_0/res4_9_branch2c_bn_s: (1024,)\n",
            "INFO net.py:  96: res4_9_branch2c_bn_b loaded from weights file into gpu_0/res4_9_branch2c_bn_b: (1024,)\n",
            "INFO net.py:  96: res4_10_branch2a_w [+ momentum] loaded from weights file into gpu_0/res4_10_branch2a_w: (256, 1024, 1, 1)\n",
            "INFO net.py:  96: res4_10_branch2a_bn_s loaded from weights file into gpu_0/res4_10_branch2a_bn_s: (256,)\n",
            "INFO net.py:  96: res4_10_branch2a_bn_b loaded from weights file into gpu_0/res4_10_branch2a_bn_b: (256,)\n",
            "INFO net.py:  96: res4_10_branch2b_w [+ momentum] loaded from weights file into gpu_0/res4_10_branch2b_w: (256, 256, 3, 3)\n",
            "INFO net.py:  96: res4_10_branch2b_bn_s loaded from weights file into gpu_0/res4_10_branch2b_bn_s: (256,)\n",
            "INFO net.py:  96: res4_10_branch2b_bn_b loaded from weights file into gpu_0/res4_10_branch2b_bn_b: (256,)\n",
            "INFO net.py:  96: res4_10_branch2c_w [+ momentum] loaded from weights file into gpu_0/res4_10_branch2c_w: (1024, 256, 1, 1)\n",
            "INFO net.py:  96: res4_10_branch2c_bn_s loaded from weights file into gpu_0/res4_10_branch2c_bn_s: (1024,)\n",
            "INFO net.py:  96: res4_10_branch2c_bn_b loaded from weights file into gpu_0/res4_10_branch2c_bn_b: (1024,)\n",
            "INFO net.py:  96: res4_11_branch2a_w [+ momentum] loaded from weights file into gpu_0/res4_11_branch2a_w: (256, 1024, 1, 1)\n",
            "INFO net.py:  96: res4_11_branch2a_bn_s loaded from weights file into gpu_0/res4_11_branch2a_bn_s: (256,)\n",
            "INFO net.py:  96: res4_11_branch2a_bn_b loaded from weights file into gpu_0/res4_11_branch2a_bn_b: (256,)\n",
            "INFO net.py:  96: res4_11_branch2b_w [+ momentum] loaded from weights file into gpu_0/res4_11_branch2b_w: (256, 256, 3, 3)\n",
            "INFO net.py:  96: res4_11_branch2b_bn_s loaded from weights file into gpu_0/res4_11_branch2b_bn_s: (256,)\n",
            "INFO net.py:  96: res4_11_branch2b_bn_b loaded from weights file into gpu_0/res4_11_branch2b_bn_b: (256,)\n",
            "INFO net.py:  96: res4_11_branch2c_w [+ momentum] loaded from weights file into gpu_0/res4_11_branch2c_w: (1024, 256, 1, 1)\n",
            "INFO net.py:  96: res4_11_branch2c_bn_s loaded from weights file into gpu_0/res4_11_branch2c_bn_s: (1024,)\n",
            "INFO net.py:  96: res4_11_branch2c_bn_b loaded from weights file into gpu_0/res4_11_branch2c_bn_b: (1024,)\n",
            "INFO net.py:  96: res4_12_branch2a_w [+ momentum] loaded from weights file into gpu_0/res4_12_branch2a_w: (256, 1024, 1, 1)\n",
            "INFO net.py:  96: res4_12_branch2a_bn_s loaded from weights file into gpu_0/res4_12_branch2a_bn_s: (256,)\n",
            "INFO net.py:  96: res4_12_branch2a_bn_b loaded from weights file into gpu_0/res4_12_branch2a_bn_b: (256,)\n",
            "INFO net.py:  96: res4_12_branch2b_w [+ momentum] loaded from weights file into gpu_0/res4_12_branch2b_w: (256, 256, 3, 3)\n",
            "INFO net.py:  96: res4_12_branch2b_bn_s loaded from weights file into gpu_0/res4_12_branch2b_bn_s: (256,)\n",
            "INFO net.py:  96: res4_12_branch2b_bn_b loaded from weights file into gpu_0/res4_12_branch2b_bn_b: (256,)\n",
            "INFO net.py:  96: res4_12_branch2c_w [+ momentum] loaded from weights file into gpu_0/res4_12_branch2c_w: (1024, 256, 1, 1)\n",
            "INFO net.py:  96: res4_12_branch2c_bn_s loaded from weights file into gpu_0/res4_12_branch2c_bn_s: (1024,)\n",
            "INFO net.py:  96: res4_12_branch2c_bn_b loaded from weights file into gpu_0/res4_12_branch2c_bn_b: (1024,)\n",
            "INFO net.py:  96: res4_13_branch2a_w [+ momentum] loaded from weights file into gpu_0/res4_13_branch2a_w: (256, 1024, 1, 1)\n",
            "INFO net.py:  96: res4_13_branch2a_bn_s loaded from weights file into gpu_0/res4_13_branch2a_bn_s: (256,)\n",
            "INFO net.py:  96: res4_13_branch2a_bn_b loaded from weights file into gpu_0/res4_13_branch2a_bn_b: (256,)\n",
            "INFO net.py:  96: res4_13_branch2b_w [+ momentum] loaded from weights file into gpu_0/res4_13_branch2b_w: (256, 256, 3, 3)\n",
            "INFO net.py:  96: res4_13_branch2b_bn_s loaded from weights file into gpu_0/res4_13_branch2b_bn_s: (256,)\n",
            "INFO net.py:  96: res4_13_branch2b_bn_b loaded from weights file into gpu_0/res4_13_branch2b_bn_b: (256,)\n",
            "INFO net.py:  96: res4_13_branch2c_w [+ momentum] loaded from weights file into gpu_0/res4_13_branch2c_w: (1024, 256, 1, 1)\n",
            "INFO net.py:  96: res4_13_branch2c_bn_s loaded from weights file into gpu_0/res4_13_branch2c_bn_s: (1024,)\n",
            "INFO net.py:  96: res4_13_branch2c_bn_b loaded from weights file into gpu_0/res4_13_branch2c_bn_b: (1024,)\n",
            "INFO net.py:  96: res4_14_branch2a_w [+ momentum] loaded from weights file into gpu_0/res4_14_branch2a_w: (256, 1024, 1, 1)\n",
            "INFO net.py:  96: res4_14_branch2a_bn_s loaded from weights file into gpu_0/res4_14_branch2a_bn_s: (256,)\n",
            "INFO net.py:  96: res4_14_branch2a_bn_b loaded from weights file into gpu_0/res4_14_branch2a_bn_b: (256,)\n",
            "INFO net.py:  96: res4_14_branch2b_w [+ momentum] loaded from weights file into gpu_0/res4_14_branch2b_w: (256, 256, 3, 3)\n",
            "INFO net.py:  96: res4_14_branch2b_bn_s loaded from weights file into gpu_0/res4_14_branch2b_bn_s: (256,)\n",
            "INFO net.py:  96: res4_14_branch2b_bn_b loaded from weights file into gpu_0/res4_14_branch2b_bn_b: (256,)\n",
            "INFO net.py:  96: res4_14_branch2c_w [+ momentum] loaded from weights file into gpu_0/res4_14_branch2c_w: (1024, 256, 1, 1)\n",
            "INFO net.py:  96: res4_14_branch2c_bn_s loaded from weights file into gpu_0/res4_14_branch2c_bn_s: (1024,)\n",
            "INFO net.py:  96: res4_14_branch2c_bn_b loaded from weights file into gpu_0/res4_14_branch2c_bn_b: (1024,)\n",
            "INFO net.py:  96: res4_15_branch2a_w [+ momentum] loaded from weights file into gpu_0/res4_15_branch2a_w: (256, 1024, 1, 1)\n",
            "INFO net.py:  96: res4_15_branch2a_bn_s loaded from weights file into gpu_0/res4_15_branch2a_bn_s: (256,)\n",
            "INFO net.py:  96: res4_15_branch2a_bn_b loaded from weights file into gpu_0/res4_15_branch2a_bn_b: (256,)\n",
            "INFO net.py:  96: res4_15_branch2b_w [+ momentum] loaded from weights file into gpu_0/res4_15_branch2b_w: (256, 256, 3, 3)\n",
            "INFO net.py:  96: res4_15_branch2b_bn_s loaded from weights file into gpu_0/res4_15_branch2b_bn_s: (256,)\n",
            "INFO net.py:  96: res4_15_branch2b_bn_b loaded from weights file into gpu_0/res4_15_branch2b_bn_b: (256,)\n",
            "INFO net.py:  96: res4_15_branch2c_w [+ momentum] loaded from weights file into gpu_0/res4_15_branch2c_w: (1024, 256, 1, 1)\n",
            "INFO net.py:  96: res4_15_branch2c_bn_s loaded from weights file into gpu_0/res4_15_branch2c_bn_s: (1024,)\n",
            "INFO net.py:  96: res4_15_branch2c_bn_b loaded from weights file into gpu_0/res4_15_branch2c_bn_b: (1024,)\n",
            "INFO net.py:  96: res4_16_branch2a_w [+ momentum] loaded from weights file into gpu_0/res4_16_branch2a_w: (256, 1024, 1, 1)\n",
            "INFO net.py:  96: res4_16_branch2a_bn_s loaded from weights file into gpu_0/res4_16_branch2a_bn_s: (256,)\n",
            "INFO net.py:  96: res4_16_branch2a_bn_b loaded from weights file into gpu_0/res4_16_branch2a_bn_b: (256,)\n",
            "INFO net.py:  96: res4_16_branch2b_w [+ momentum] loaded from weights file into gpu_0/res4_16_branch2b_w: (256, 256, 3, 3)\n",
            "INFO net.py:  96: res4_16_branch2b_bn_s loaded from weights file into gpu_0/res4_16_branch2b_bn_s: (256,)\n",
            "INFO net.py:  96: res4_16_branch2b_bn_b loaded from weights file into gpu_0/res4_16_branch2b_bn_b: (256,)\n",
            "INFO net.py:  96: res4_16_branch2c_w [+ momentum] loaded from weights file into gpu_0/res4_16_branch2c_w: (1024, 256, 1, 1)\n",
            "INFO net.py:  96: res4_16_branch2c_bn_s loaded from weights file into gpu_0/res4_16_branch2c_bn_s: (1024,)\n",
            "INFO net.py:  96: res4_16_branch2c_bn_b loaded from weights file into gpu_0/res4_16_branch2c_bn_b: (1024,)\n",
            "INFO net.py:  96: res4_17_branch2a_w [+ momentum] loaded from weights file into gpu_0/res4_17_branch2a_w: (256, 1024, 1, 1)\n",
            "INFO net.py:  96: res4_17_branch2a_bn_s loaded from weights file into gpu_0/res4_17_branch2a_bn_s: (256,)\n",
            "INFO net.py:  96: res4_17_branch2a_bn_b loaded from weights file into gpu_0/res4_17_branch2a_bn_b: (256,)\n",
            "INFO net.py:  96: res4_17_branch2b_w [+ momentum] loaded from weights file into gpu_0/res4_17_branch2b_w: (256, 256, 3, 3)\n",
            "INFO net.py:  96: res4_17_branch2b_bn_s loaded from weights file into gpu_0/res4_17_branch2b_bn_s: (256,)\n",
            "INFO net.py:  96: res4_17_branch2b_bn_b loaded from weights file into gpu_0/res4_17_branch2b_bn_b: (256,)\n",
            "INFO net.py:  96: res4_17_branch2c_w [+ momentum] loaded from weights file into gpu_0/res4_17_branch2c_w: (1024, 256, 1, 1)\n",
            "INFO net.py:  96: res4_17_branch2c_bn_s loaded from weights file into gpu_0/res4_17_branch2c_bn_s: (1024,)\n",
            "INFO net.py:  96: res4_17_branch2c_bn_b loaded from weights file into gpu_0/res4_17_branch2c_bn_b: (1024,)\n",
            "INFO net.py:  96: res4_18_branch2a_w [+ momentum] loaded from weights file into gpu_0/res4_18_branch2a_w: (256, 1024, 1, 1)\n",
            "INFO net.py:  96: res4_18_branch2a_bn_s loaded from weights file into gpu_0/res4_18_branch2a_bn_s: (256,)\n",
            "INFO net.py:  96: res4_18_branch2a_bn_b loaded from weights file into gpu_0/res4_18_branch2a_bn_b: (256,)\n",
            "INFO net.py:  96: res4_18_branch2b_w [+ momentum] loaded from weights file into gpu_0/res4_18_branch2b_w: (256, 256, 3, 3)\n",
            "INFO net.py:  96: res4_18_branch2b_bn_s loaded from weights file into gpu_0/res4_18_branch2b_bn_s: (256,)\n",
            "INFO net.py:  96: res4_18_branch2b_bn_b loaded from weights file into gpu_0/res4_18_branch2b_bn_b: (256,)\n",
            "INFO net.py:  96: res4_18_branch2c_w [+ momentum] loaded from weights file into gpu_0/res4_18_branch2c_w: (1024, 256, 1, 1)\n",
            "INFO net.py:  96: res4_18_branch2c_bn_s loaded from weights file into gpu_0/res4_18_branch2c_bn_s: (1024,)\n",
            "INFO net.py:  96: res4_18_branch2c_bn_b loaded from weights file into gpu_0/res4_18_branch2c_bn_b: (1024,)\n",
            "INFO net.py:  96: res4_19_branch2a_w [+ momentum] loaded from weights file into gpu_0/res4_19_branch2a_w: (256, 1024, 1, 1)\n",
            "INFO net.py:  96: res4_19_branch2a_bn_s loaded from weights file into gpu_0/res4_19_branch2a_bn_s: (256,)\n",
            "INFO net.py:  96: res4_19_branch2a_bn_b loaded from weights file into gpu_0/res4_19_branch2a_bn_b: (256,)\n",
            "INFO net.py:  96: res4_19_branch2b_w [+ momentum] loaded from weights file into gpu_0/res4_19_branch2b_w: (256, 256, 3, 3)\n",
            "INFO net.py:  96: res4_19_branch2b_bn_s loaded from weights file into gpu_0/res4_19_branch2b_bn_s: (256,)\n",
            "INFO net.py:  96: res4_19_branch2b_bn_b loaded from weights file into gpu_0/res4_19_branch2b_bn_b: (256,)\n",
            "INFO net.py:  96: res4_19_branch2c_w [+ momentum] loaded from weights file into gpu_0/res4_19_branch2c_w: (1024, 256, 1, 1)\n",
            "INFO net.py:  96: res4_19_branch2c_bn_s loaded from weights file into gpu_0/res4_19_branch2c_bn_s: (1024,)\n",
            "INFO net.py:  96: res4_19_branch2c_bn_b loaded from weights file into gpu_0/res4_19_branch2c_bn_b: (1024,)\n",
            "INFO net.py:  96: res4_20_branch2a_w [+ momentum] loaded from weights file into gpu_0/res4_20_branch2a_w: (256, 1024, 1, 1)\n",
            "INFO net.py:  96: res4_20_branch2a_bn_s loaded from weights file into gpu_0/res4_20_branch2a_bn_s: (256,)\n",
            "INFO net.py:  96: res4_20_branch2a_bn_b loaded from weights file into gpu_0/res4_20_branch2a_bn_b: (256,)\n",
            "INFO net.py:  96: res4_20_branch2b_w [+ momentum] loaded from weights file into gpu_0/res4_20_branch2b_w: (256, 256, 3, 3)\n",
            "INFO net.py:  96: res4_20_branch2b_bn_s loaded from weights file into gpu_0/res4_20_branch2b_bn_s: (256,)\n",
            "INFO net.py:  96: res4_20_branch2b_bn_b loaded from weights file into gpu_0/res4_20_branch2b_bn_b: (256,)\n",
            "INFO net.py:  96: res4_20_branch2c_w [+ momentum] loaded from weights file into gpu_0/res4_20_branch2c_w: (1024, 256, 1, 1)\n",
            "INFO net.py:  96: res4_20_branch2c_bn_s loaded from weights file into gpu_0/res4_20_branch2c_bn_s: (1024,)\n",
            "INFO net.py:  96: res4_20_branch2c_bn_b loaded from weights file into gpu_0/res4_20_branch2c_bn_b: (1024,)\n",
            "INFO net.py:  96: res4_21_branch2a_w [+ momentum] loaded from weights file into gpu_0/res4_21_branch2a_w: (256, 1024, 1, 1)\n",
            "INFO net.py:  96: res4_21_branch2a_bn_s loaded from weights file into gpu_0/res4_21_branch2a_bn_s: (256,)\n",
            "INFO net.py:  96: res4_21_branch2a_bn_b loaded from weights file into gpu_0/res4_21_branch2a_bn_b: (256,)\n",
            "INFO net.py:  96: res4_21_branch2b_w [+ momentum] loaded from weights file into gpu_0/res4_21_branch2b_w: (256, 256, 3, 3)\n",
            "INFO net.py:  96: res4_21_branch2b_bn_s loaded from weights file into gpu_0/res4_21_branch2b_bn_s: (256,)\n",
            "INFO net.py:  96: res4_21_branch2b_bn_b loaded from weights file into gpu_0/res4_21_branch2b_bn_b: (256,)\n",
            "INFO net.py:  96: res4_21_branch2c_w [+ momentum] loaded from weights file into gpu_0/res4_21_branch2c_w: (1024, 256, 1, 1)\n",
            "INFO net.py:  96: res4_21_branch2c_bn_s loaded from weights file into gpu_0/res4_21_branch2c_bn_s: (1024,)\n",
            "INFO net.py:  96: res4_21_branch2c_bn_b loaded from weights file into gpu_0/res4_21_branch2c_bn_b: (1024,)\n",
            "INFO net.py:  96: res4_22_branch2a_w [+ momentum] loaded from weights file into gpu_0/res4_22_branch2a_w: (256, 1024, 1, 1)\n",
            "INFO net.py:  96: res4_22_branch2a_bn_s loaded from weights file into gpu_0/res4_22_branch2a_bn_s: (256,)\n",
            "INFO net.py:  96: res4_22_branch2a_bn_b loaded from weights file into gpu_0/res4_22_branch2a_bn_b: (256,)\n",
            "INFO net.py:  96: res4_22_branch2b_w [+ momentum] loaded from weights file into gpu_0/res4_22_branch2b_w: (256, 256, 3, 3)\n",
            "INFO net.py:  96: res4_22_branch2b_bn_s loaded from weights file into gpu_0/res4_22_branch2b_bn_s: (256,)\n",
            "INFO net.py:  96: res4_22_branch2b_bn_b loaded from weights file into gpu_0/res4_22_branch2b_bn_b: (256,)\n",
            "INFO net.py:  96: res4_22_branch2c_w [+ momentum] loaded from weights file into gpu_0/res4_22_branch2c_w: (1024, 256, 1, 1)\n",
            "INFO net.py:  96: res4_22_branch2c_bn_s loaded from weights file into gpu_0/res4_22_branch2c_bn_s: (1024,)\n",
            "INFO net.py:  96: res4_22_branch2c_bn_b loaded from weights file into gpu_0/res4_22_branch2c_bn_b: (1024,)\n",
            "INFO net.py:  96: res5_0_branch2a_w [+ momentum] loaded from weights file into gpu_0/res5_0_branch2a_w: (512, 1024, 1, 1)\n",
            "INFO net.py:  96: res5_0_branch2a_bn_s loaded from weights file into gpu_0/res5_0_branch2a_bn_s: (512,)\n",
            "INFO net.py:  96: res5_0_branch2a_bn_b loaded from weights file into gpu_0/res5_0_branch2a_bn_b: (512,)\n",
            "INFO net.py:  96: res5_0_branch2b_w [+ momentum] loaded from weights file into gpu_0/res5_0_branch2b_w: (512, 512, 3, 3)\n",
            "INFO net.py:  96: res5_0_branch2b_bn_s loaded from weights file into gpu_0/res5_0_branch2b_bn_s: (512,)\n",
            "INFO net.py:  96: res5_0_branch2b_bn_b loaded from weights file into gpu_0/res5_0_branch2b_bn_b: (512,)\n",
            "INFO net.py:  96: res5_0_branch2c_w [+ momentum] loaded from weights file into gpu_0/res5_0_branch2c_w: (2048, 512, 1, 1)\n",
            "INFO net.py:  96: res5_0_branch2c_bn_s loaded from weights file into gpu_0/res5_0_branch2c_bn_s: (2048,)\n",
            "INFO net.py:  96: res5_0_branch2c_bn_b loaded from weights file into gpu_0/res5_0_branch2c_bn_b: (2048,)\n",
            "INFO net.py:  96: res5_0_branch1_w [+ momentum] loaded from weights file into gpu_0/res5_0_branch1_w: (2048, 1024, 1, 1)\n",
            "INFO net.py:  96: res5_0_branch1_bn_s loaded from weights file into gpu_0/res5_0_branch1_bn_s: (2048,)\n",
            "INFO net.py:  96: res5_0_branch1_bn_b loaded from weights file into gpu_0/res5_0_branch1_bn_b: (2048,)\n",
            "INFO net.py:  96: res5_1_branch2a_w [+ momentum] loaded from weights file into gpu_0/res5_1_branch2a_w: (512, 2048, 1, 1)\n",
            "INFO net.py:  96: res5_1_branch2a_bn_s loaded from weights file into gpu_0/res5_1_branch2a_bn_s: (512,)\n",
            "INFO net.py:  96: res5_1_branch2a_bn_b loaded from weights file into gpu_0/res5_1_branch2a_bn_b: (512,)\n",
            "INFO net.py:  96: res5_1_branch2b_w [+ momentum] loaded from weights file into gpu_0/res5_1_branch2b_w: (512, 512, 3, 3)\n",
            "INFO net.py:  96: res5_1_branch2b_bn_s loaded from weights file into gpu_0/res5_1_branch2b_bn_s: (512,)\n",
            "INFO net.py:  96: res5_1_branch2b_bn_b loaded from weights file into gpu_0/res5_1_branch2b_bn_b: (512,)\n",
            "INFO net.py:  96: res5_1_branch2c_w [+ momentum] loaded from weights file into gpu_0/res5_1_branch2c_w: (2048, 512, 1, 1)\n",
            "INFO net.py:  96: res5_1_branch2c_bn_s loaded from weights file into gpu_0/res5_1_branch2c_bn_s: (2048,)\n",
            "INFO net.py:  96: res5_1_branch2c_bn_b loaded from weights file into gpu_0/res5_1_branch2c_bn_b: (2048,)\n",
            "INFO net.py:  96: res5_2_branch2a_w [+ momentum] loaded from weights file into gpu_0/res5_2_branch2a_w: (512, 2048, 1, 1)\n",
            "INFO net.py:  96: res5_2_branch2a_bn_s loaded from weights file into gpu_0/res5_2_branch2a_bn_s: (512,)\n",
            "INFO net.py:  96: res5_2_branch2a_bn_b loaded from weights file into gpu_0/res5_2_branch2a_bn_b: (512,)\n",
            "INFO net.py:  96: res5_2_branch2b_w [+ momentum] loaded from weights file into gpu_0/res5_2_branch2b_w: (512, 512, 3, 3)\n",
            "INFO net.py:  96: res5_2_branch2b_bn_s loaded from weights file into gpu_0/res5_2_branch2b_bn_s: (512,)\n",
            "INFO net.py:  96: res5_2_branch2b_bn_b loaded from weights file into gpu_0/res5_2_branch2b_bn_b: (512,)\n",
            "INFO net.py:  96: res5_2_branch2c_w [+ momentum] loaded from weights file into gpu_0/res5_2_branch2c_w: (2048, 512, 1, 1)\n",
            "INFO net.py:  96: res5_2_branch2c_bn_s loaded from weights file into gpu_0/res5_2_branch2c_bn_s: (2048,)\n",
            "INFO net.py:  96: res5_2_branch2c_bn_b loaded from weights file into gpu_0/res5_2_branch2c_bn_b: (2048,)\n",
            "INFO net.py:  96: fpn_inner_res5_2_sum_w [+ momentum] loaded from weights file into gpu_0/fpn_inner_res5_2_sum_w: (256, 2048, 1, 1)\n",
            "INFO net.py:  96: fpn_inner_res5_2_sum_b [+ momentum] loaded from weights file into gpu_0/fpn_inner_res5_2_sum_b: (256,)\n",
            "INFO net.py:  96: fpn_inner_res4_22_sum_lateral_w [+ momentum] loaded from weights file into gpu_0/fpn_inner_res4_22_sum_lateral_w: (256, 1024, 1, 1)\n",
            "INFO net.py:  96: fpn_inner_res4_22_sum_lateral_b [+ momentum] loaded from weights file into gpu_0/fpn_inner_res4_22_sum_lateral_b: (256,)\n",
            "INFO net.py:  96: fpn_inner_res3_3_sum_lateral_w [+ momentum] loaded from weights file into gpu_0/fpn_inner_res3_3_sum_lateral_w: (256, 512, 1, 1)\n",
            "INFO net.py:  96: fpn_inner_res3_3_sum_lateral_b [+ momentum] loaded from weights file into gpu_0/fpn_inner_res3_3_sum_lateral_b: (256,)\n",
            "INFO net.py:  96: fpn_inner_res2_2_sum_lateral_w [+ momentum] loaded from weights file into gpu_0/fpn_inner_res2_2_sum_lateral_w: (256, 256, 1, 1)\n",
            "INFO net.py:  96: fpn_inner_res2_2_sum_lateral_b [+ momentum] loaded from weights file into gpu_0/fpn_inner_res2_2_sum_lateral_b: (256,)\n",
            "INFO net.py:  96: fpn_res5_2_sum_w [+ momentum] loaded from weights file into gpu_0/fpn_res5_2_sum_w: (256, 256, 3, 3)\n",
            "INFO net.py:  96: fpn_res5_2_sum_b [+ momentum] loaded from weights file into gpu_0/fpn_res5_2_sum_b: (256,)\n",
            "INFO net.py:  96: fpn_res4_22_sum_w [+ momentum] loaded from weights file into gpu_0/fpn_res4_22_sum_w: (256, 256, 3, 3)\n",
            "INFO net.py:  96: fpn_res4_22_sum_b [+ momentum] loaded from weights file into gpu_0/fpn_res4_22_sum_b: (256,)\n",
            "INFO net.py:  96: fpn_res3_3_sum_w [+ momentum] loaded from weights file into gpu_0/fpn_res3_3_sum_w: (256, 256, 3, 3)\n",
            "INFO net.py:  96: fpn_res3_3_sum_b [+ momentum] loaded from weights file into gpu_0/fpn_res3_3_sum_b: (256,)\n",
            "INFO net.py:  96: fpn_res2_2_sum_w [+ momentum] loaded from weights file into gpu_0/fpn_res2_2_sum_w: (256, 256, 3, 3)\n",
            "INFO net.py:  96: fpn_res2_2_sum_b [+ momentum] loaded from weights file into gpu_0/fpn_res2_2_sum_b: (256,)\n",
            "INFO net.py:  96: conv_rpn_fpn2_w [+ momentum] loaded from weights file into gpu_0/conv_rpn_fpn2_w: (256, 256, 3, 3)\n",
            "INFO net.py:  96: conv_rpn_fpn2_b [+ momentum] loaded from weights file into gpu_0/conv_rpn_fpn2_b: (256,)\n",
            "INFO net.py:  96: rpn_cls_logits_fpn2_w [+ momentum] loaded from weights file into gpu_0/rpn_cls_logits_fpn2_w: (3, 256, 1, 1)\n",
            "INFO net.py:  96: rpn_cls_logits_fpn2_b [+ momentum] loaded from weights file into gpu_0/rpn_cls_logits_fpn2_b: (3,)\n",
            "INFO net.py:  96: rpn_bbox_pred_fpn2_w [+ momentum] loaded from weights file into gpu_0/rpn_bbox_pred_fpn2_w: (12, 256, 1, 1)\n",
            "INFO net.py:  96: rpn_bbox_pred_fpn2_b [+ momentum] loaded from weights file into gpu_0/rpn_bbox_pred_fpn2_b: (12,)\n",
            "INFO net.py:  96: fc6_w [+ momentum] loaded from weights file into gpu_0/fc6_w: (1024, 12544)\n",
            "INFO net.py:  96: fc6_b [+ momentum] loaded from weights file into gpu_0/fc6_b: (1024,)\n",
            "INFO net.py:  96: fc7_w [+ momentum] loaded from weights file into gpu_0/fc7_w: (1024, 1024)\n",
            "INFO net.py:  96: fc7_b [+ momentum] loaded from weights file into gpu_0/fc7_b: (1024,)\n",
            "INFO net.py:  96: cls_score_w [+ momentum] loaded from weights file into gpu_0/cls_score_w: (81, 1024)\n",
            "INFO net.py:  96: cls_score_b [+ momentum] loaded from weights file into gpu_0/cls_score_b: (81,)\n",
            "INFO net.py:  96: bbox_pred_w [+ momentum] loaded from weights file into gpu_0/bbox_pred_w: (324, 1024)\n",
            "INFO net.py:  96: bbox_pred_b [+ momentum] loaded from weights file into gpu_0/bbox_pred_b: (324,)\n",
            "INFO net.py:  96: _[mask]_fcn1_w [+ momentum] loaded from weights file into gpu_0/_[mask]_fcn1_w: (256, 256, 3, 3)\n",
            "INFO net.py:  96: _[mask]_fcn1_b [+ momentum] loaded from weights file into gpu_0/_[mask]_fcn1_b: (256,)\n",
            "INFO net.py:  96: _[mask]_fcn2_w [+ momentum] loaded from weights file into gpu_0/_[mask]_fcn2_w: (256, 256, 3, 3)\n",
            "INFO net.py:  96: _[mask]_fcn2_b [+ momentum] loaded from weights file into gpu_0/_[mask]_fcn2_b: (256,)\n",
            "INFO net.py:  96: _[mask]_fcn3_w [+ momentum] loaded from weights file into gpu_0/_[mask]_fcn3_w: (256, 256, 3, 3)\n",
            "INFO net.py:  96: _[mask]_fcn3_b [+ momentum] loaded from weights file into gpu_0/_[mask]_fcn3_b: (256,)\n",
            "INFO net.py:  96: _[mask]_fcn4_w [+ momentum] loaded from weights file into gpu_0/_[mask]_fcn4_w: (256, 256, 3, 3)\n",
            "INFO net.py:  96: _[mask]_fcn4_b [+ momentum] loaded from weights file into gpu_0/_[mask]_fcn4_b: (256,)\n",
            "INFO net.py:  96: conv5_mask_w [+ momentum] loaded from weights file into gpu_0/conv5_mask_w: (256, 256, 2, 2)\n",
            "INFO net.py:  96: conv5_mask_b [+ momentum] loaded from weights file into gpu_0/conv5_mask_b: (256,)\n",
            "INFO net.py:  96: mask_fcn_logits_w [+ momentum] loaded from weights file into gpu_0/mask_fcn_logits_w: (81, 256, 1, 1)\n",
            "INFO net.py:  96: mask_fcn_logits_b [+ momentum] loaded from weights file into gpu_0/mask_fcn_logits_b: (81,)\n",
            "INFO net.py: 133: res4_16_branch2a_b preserved in workspace (unused)\n",
            "INFO net.py: 133: res5_1_branch2b_b preserved in workspace (unused)\n",
            "INFO net.py: 133: res4_16_branch2c_b preserved in workspace (unused)\n",
            "INFO net.py: 133: res4_4_branch2b_b preserved in workspace (unused)\n",
            "INFO net.py: 133: res4_12_branch2a_b preserved in workspace (unused)\n",
            "INFO net.py: 133: res3_0_branch2a_b preserved in workspace (unused)\n",
            "INFO net.py: 133: res4_12_branch2c_b preserved in workspace (unused)\n",
            "INFO net.py: 133: fc1000_b preserved in workspace (unused)\n",
            "INFO net.py: 133: fc1000_w preserved in workspace (unused)\n",
            "INFO net.py: 133: res3_2_branch2a_b preserved in workspace (unused)\n",
            "INFO net.py: 133: res2_1_branch2b_b preserved in workspace (unused)\n",
            "INFO net.py: 133: res4_17_branch2a_b preserved in workspace (unused)\n",
            "INFO net.py: 133: res4_0_branch2b_b preserved in workspace (unused)\n",
            "INFO net.py: 133: res4_2_branch2b_b preserved in workspace (unused)\n",
            "INFO net.py: 133: res4_12_branch2b_b preserved in workspace (unused)\n",
            "INFO net.py: 133: res4_21_branch2a_b preserved in workspace (unused)\n",
            "INFO net.py: 133: res4_10_branch2a_b preserved in workspace (unused)\n",
            "INFO net.py: 133: res4_14_branch2c_b preserved in workspace (unused)\n",
            "INFO net.py: 133: res3_0_branch1_b preserved in workspace (unused)\n",
            "INFO net.py: 133: res4_9_branch2b_b preserved in workspace (unused)\n",
            "INFO net.py: 133: res2_0_branch2c_b preserved in workspace (unused)\n",
            "INFO net.py: 133: res4_1_branch2c_b preserved in workspace (unused)\n",
            "INFO net.py: 133: res4_1_branch2a_b preserved in workspace (unused)\n",
            "INFO net.py: 133: res5_2_branch2b_b preserved in workspace (unused)\n",
            "INFO net.py: 133: res4_5_branch2c_b preserved in workspace (unused)\n",
            "INFO net.py: 133: res4_11_branch2c_b preserved in workspace (unused)\n",
            "INFO net.py: 133: res4_7_branch2a_b preserved in workspace (unused)\n",
            "INFO net.py: 133: res4_7_branch2c_b preserved in workspace (unused)\n",
            "INFO net.py: 133: res5_1_branch2a_b preserved in workspace (unused)\n",
            "INFO net.py: 133: res5_1_branch2c_b preserved in workspace (unused)\n",
            "INFO net.py: 133: res4_4_branch2a_b preserved in workspace (unused)\n",
            "INFO net.py: 133: res4_16_branch2b_b preserved in workspace (unused)\n",
            "INFO net.py: 133: conv1_b preserved in workspace (unused)\n",
            "INFO net.py: 133: res4_4_branch2c_b preserved in workspace (unused)\n",
            "INFO net.py: 133: res2_0_branch2a_b preserved in workspace (unused)\n",
            "INFO net.py: 133: res2_2_branch2a_b preserved in workspace (unused)\n",
            "INFO net.py: 133: res4_21_branch2b_b preserved in workspace (unused)\n",
            "INFO net.py: 133: res3_2_branch2c_b preserved in workspace (unused)\n",
            "INFO net.py: 133: res4_20_branch2a_b preserved in workspace (unused)\n",
            "INFO net.py: 133: res4_9_branch2c_b preserved in workspace (unused)\n",
            "INFO net.py: 133: res4_9_branch2a_b preserved in workspace (unused)\n",
            "INFO net.py: 133: res4_15_branch2b_b preserved in workspace (unused)\n",
            "INFO net.py: 133: res4_20_branch2c_b preserved in workspace (unused)\n",
            "INFO net.py: 133: res2_1_branch2c_b preserved in workspace (unused)\n",
            "INFO net.py: 133: res4_7_branch2b_b preserved in workspace (unused)\n",
            "INFO net.py: 133: res4_22_branch2b_b preserved in workspace (unused)\n",
            "INFO net.py: 133: res4_13_branch2b_b preserved in workspace (unused)\n",
            "INFO net.py: 133: res4_18_branch2c_b preserved in workspace (unused)\n",
            "INFO net.py: 133: res4_14_branch2a_b preserved in workspace (unused)\n",
            "INFO net.py: 133: res3_0_branch2b_b preserved in workspace (unused)\n",
            "INFO net.py: 133: res2_2_branch2b_b preserved in workspace (unused)\n",
            "INFO net.py: 133: res4_5_branch2a_b preserved in workspace (unused)\n",
            "INFO net.py: 133: res5_0_branch2c_b preserved in workspace (unused)\n",
            "INFO net.py: 133: res5_2_branch2a_b preserved in workspace (unused)\n",
            "INFO net.py: 133: res5_0_branch2a_b preserved in workspace (unused)\n",
            "INFO net.py: 133: res5_0_branch1_b preserved in workspace (unused)\n",
            "INFO net.py: 133: res4_20_branch2b_b preserved in workspace (unused)\n",
            "INFO net.py: 133: res4_14_branch2b_b preserved in workspace (unused)\n",
            "INFO net.py: 133: res4_0_branch2c_b preserved in workspace (unused)\n",
            "INFO net.py: 133: res4_15_branch2a_b preserved in workspace (unused)\n",
            "INFO net.py: 133: res4_21_branch2c_b preserved in workspace (unused)\n",
            "INFO net.py: 133: res4_19_branch2a_b preserved in workspace (unused)\n",
            "INFO net.py: 133: res4_15_branch2c_b preserved in workspace (unused)\n",
            "INFO net.py: 133: res4_13_branch2c_b preserved in workspace (unused)\n",
            "INFO net.py: 133: res4_19_branch2c_b preserved in workspace (unused)\n",
            "INFO net.py: 133: res4_18_branch2b_b preserved in workspace (unused)\n",
            "INFO net.py: 133: res4_22_branch2c_b preserved in workspace (unused)\n",
            "INFO net.py: 133: res2_2_branch2c_b preserved in workspace (unused)\n",
            "INFO net.py: 133: res3_3_branch2a_b preserved in workspace (unused)\n",
            "INFO net.py: 133: res4_22_branch2a_b preserved in workspace (unused)\n",
            "INFO net.py: 133: res4_18_branch2a_b preserved in workspace (unused)\n",
            "INFO net.py: 133: res4_10_branch2b_b preserved in workspace (unused)\n",
            "INFO net.py: 133: res2_0_branch2b_b preserved in workspace (unused)\n",
            "INFO net.py: 133: res4_11_branch2a_b preserved in workspace (unused)\n",
            "INFO net.py: 133: res4_8_branch2c_b preserved in workspace (unused)\n",
            "INFO net.py: 133: res4_13_branch2a_b preserved in workspace (unused)\n",
            "INFO net.py: 133: res4_6_branch2b_b preserved in workspace (unused)\n",
            "INFO net.py: 133: res4_2_branch2a_b preserved in workspace (unused)\n",
            "INFO net.py: 133: res4_11_branch2b_b preserved in workspace (unused)\n",
            "INFO net.py: 133: res5_2_branch2c_b preserved in workspace (unused)\n",
            "INFO net.py: 133: res3_0_branch2c_b preserved in workspace (unused)\n",
            "INFO net.py: 133: res3_1_branch2b_b preserved in workspace (unused)\n",
            "INFO net.py: 133: res4_2_branch2c_b preserved in workspace (unused)\n",
            "INFO net.py: 133: res4_19_branch2b_b preserved in workspace (unused)\n",
            "INFO net.py: 133: res3_3_branch2c_b preserved in workspace (unused)\n",
            "INFO net.py: 133: res4_3_branch2b_b preserved in workspace (unused)\n",
            "INFO net.py: 133: res2_0_branch1_b preserved in workspace (unused)\n",
            "INFO net.py: 133: res4_17_branch2c_b preserved in workspace (unused)\n",
            "INFO net.py: 133: res5_0_branch2b_b preserved in workspace (unused)\n",
            "INFO net.py: 133: res4_10_branch2c_b preserved in workspace (unused)\n",
            "INFO net.py: 133: res4_8_branch2b_b preserved in workspace (unused)\n",
            "INFO net.py: 133: res2_1_branch2a_b preserved in workspace (unused)\n",
            "INFO net.py: 133: res4_0_branch1_b preserved in workspace (unused)\n",
            "INFO net.py: 133: res4_3_branch2a_b preserved in workspace (unused)\n",
            "INFO net.py: 133: res3_2_branch2b_b preserved in workspace (unused)\n",
            "INFO net.py: 133: res4_6_branch2c_b preserved in workspace (unused)\n",
            "INFO net.py: 133: res4_5_branch2b_b preserved in workspace (unused)\n",
            "INFO net.py: 133: res4_6_branch2a_b preserved in workspace (unused)\n",
            "INFO net.py: 133: res4_0_branch2a_b preserved in workspace (unused)\n",
            "INFO net.py: 133: res4_1_branch2b_b preserved in workspace (unused)\n",
            "INFO net.py: 133: res3_1_branch2c_b preserved in workspace (unused)\n",
            "INFO net.py: 133: res3_1_branch2a_b preserved in workspace (unused)\n",
            "INFO net.py: 133: res4_8_branch2a_b preserved in workspace (unused)\n",
            "INFO net.py: 133: res3_3_branch2b_b preserved in workspace (unused)\n",
            "INFO net.py: 133: res4_17_branch2b_b preserved in workspace (unused)\n",
            "INFO net.py: 133: res4_3_branch2c_b preserved in workspace (unused)\n",
            "[I net_dag_utils.cc:102] Operator graph pruning prior to chain compute took: 7.9303e-05 secs\n",
            "[I net_dag_utils.cc:102] Operator graph pruning prior to chain compute took: 6.851e-05 secs\n",
            "[I net_dag_utils.cc:102] Operator graph pruning prior to chain compute took: 7.598e-06 secs\n",
            "INFO infer_simple.py: 147: Processing demo/test_images_012.jpg -> /tmp/detectron-visualizations/test_images_012.jpg.pdf\n",
            "[I net_async_base.h:205] Using specified CPU pool size: 4; device id: -1\n",
            "[I net_async_base.h:210] Created new CPU pool, size: 4; device id: -1\n",
            "[I net_async_base.h:205] Using specified CPU pool size: 4; device id: -1\n",
            "[I net_async_base.h:210] Created new CPU pool, size: 4; device id: -1\n",
            "INFO infer_simple.py: 155: Inference time: 0.362s\n",
            "INFO infer_simple.py: 157:  | im_detect_bbox: 0.341s\n",
            "INFO infer_simple.py: 157:  | misc_bbox: 0.003s\n",
            "INFO infer_simple.py: 157:  | im_detect_mask: 0.004s\n",
            "INFO infer_simple.py: 157:  | misc_mask: 0.013s\n",
            "INFO infer_simple.py: 160:  \\ Note: inference on the first image will be slower than the rest (caches and auto-tuning need to warm up)\n",
            "INFO infer_simple.py: 147: Processing demo/test_images_002.jpg -> /tmp/detectron-visualizations/test_images_002.jpg.pdf\n",
            "INFO infer_simple.py: 155: Inference time: 0.279s\n",
            "INFO infer_simple.py: 157:  | im_detect_bbox: 0.224s\n",
            "INFO infer_simple.py: 157:  | misc_bbox: 0.003s\n",
            "INFO infer_simple.py: 157:  | im_detect_mask: 0.006s\n",
            "INFO infer_simple.py: 157:  | misc_mask: 0.046s\n",
            "INFO infer_simple.py: 147: Processing demo/test_images_011.jpg -> /tmp/detectron-visualizations/test_images_011.jpg.pdf\n",
            "INFO infer_simple.py: 155: Inference time: 0.271s\n",
            "INFO infer_simple.py: 157:  | im_detect_bbox: 0.215s\n",
            "INFO infer_simple.py: 157:  | misc_bbox: 0.003s\n",
            "INFO infer_simple.py: 157:  | im_detect_mask: 0.006s\n",
            "INFO infer_simple.py: 157:  | misc_mask: 0.047s\n",
            "INFO infer_simple.py: 147: Processing demo/test_images_015.jpg -> /tmp/detectron-visualizations/test_images_015.jpg.pdf\n",
            "INFO infer_simple.py: 155: Inference time: 0.307s\n",
            "INFO infer_simple.py: 157:  | im_detect_bbox: 0.232s\n",
            "INFO infer_simple.py: 157:  | misc_bbox: 0.003s\n",
            "INFO infer_simple.py: 157:  | im_detect_mask: 0.007s\n",
            "INFO infer_simple.py: 157:  | misc_mask: 0.066s\n",
            "INFO infer_simple.py: 147: Processing demo/test_images_014.jpg -> /tmp/detectron-visualizations/test_images_014.jpg.pdf\n",
            "INFO infer_simple.py: 155: Inference time: 0.242s\n",
            "INFO infer_simple.py: 157:  | im_detect_bbox: 0.216s\n",
            "INFO infer_simple.py: 157:  | misc_bbox: 0.003s\n",
            "INFO infer_simple.py: 157:  | im_detect_mask: 0.002s\n",
            "INFO infer_simple.py: 157:  | misc_mask: 0.021s\n",
            "INFO infer_simple.py: 147: Processing demo/test_images_017.jpg -> /tmp/detectron-visualizations/test_images_017.jpg.pdf\n",
            "INFO infer_simple.py: 155: Inference time: 0.281s\n",
            "INFO infer_simple.py: 157:  | im_detect_bbox: 0.216s\n",
            "INFO infer_simple.py: 157:  | misc_bbox: 0.003s\n",
            "INFO infer_simple.py: 157:  | im_detect_mask: 0.006s\n",
            "INFO infer_simple.py: 157:  | misc_mask: 0.056s\n",
            "INFO infer_simple.py: 147: Processing demo/test_images_007.jpg -> /tmp/detectron-visualizations/test_images_007.jpg.pdf\n",
            "INFO infer_simple.py: 155: Inference time: 0.270s\n",
            "INFO infer_simple.py: 157:  | im_detect_bbox: 0.217s\n",
            "INFO infer_simple.py: 157:  | misc_bbox: 0.003s\n",
            "INFO infer_simple.py: 157:  | im_detect_mask: 0.004s\n",
            "INFO infer_simple.py: 157:  | misc_mask: 0.045s\n",
            "INFO infer_simple.py: 147: Processing demo/test_images_009.jpg -> /tmp/detectron-visualizations/test_images_009.jpg.pdf\n",
            "INFO infer_simple.py: 155: Inference time: 0.321s\n",
            "INFO infer_simple.py: 157:  | im_detect_bbox: 0.215s\n",
            "INFO infer_simple.py: 157:  | misc_bbox: 0.003s\n",
            "INFO infer_simple.py: 157:  | im_detect_mask: 0.010s\n",
            "INFO infer_simple.py: 157:  | misc_mask: 0.093s\n",
            "INFO infer_simple.py: 147: Processing demo/test_images_013.jpg -> /tmp/detectron-visualizations/test_images_013.jpg.pdf\n",
            "INFO infer_simple.py: 155: Inference time: 0.313s\n",
            "INFO infer_simple.py: 157:  | im_detect_bbox: 0.220s\n",
            "INFO infer_simple.py: 157:  | misc_bbox: 0.003s\n",
            "INFO infer_simple.py: 157:  | im_detect_mask: 0.006s\n",
            "INFO infer_simple.py: 157:  | misc_mask: 0.084s\n",
            "INFO infer_simple.py: 147: Processing demo/test_images_006.jpg -> /tmp/detectron-visualizations/test_images_006.jpg.pdf\n",
            "INFO infer_simple.py: 155: Inference time: 0.381s\n",
            "INFO infer_simple.py: 157:  | im_detect_bbox: 0.212s\n",
            "INFO infer_simple.py: 157:  | misc_bbox: 0.003s\n",
            "INFO infer_simple.py: 157:  | im_detect_mask: 0.017s\n",
            "INFO infer_simple.py: 157:  | misc_mask: 0.150s\n",
            "INFO infer_simple.py: 147: Processing demo/test_images_001.jpg -> /tmp/detectron-visualizations/test_images_001.jpg.pdf\n",
            "INFO infer_simple.py: 155: Inference time: 0.291s\n",
            "INFO infer_simple.py: 157:  | im_detect_bbox: 0.221s\n",
            "INFO infer_simple.py: 157:  | misc_bbox: 0.003s\n",
            "INFO infer_simple.py: 157:  | im_detect_mask: 0.006s\n",
            "INFO infer_simple.py: 157:  | misc_mask: 0.061s\n",
            "INFO infer_simple.py: 147: Processing demo/test_images_003.jpg -> /tmp/detectron-visualizations/test_images_003.jpg.pdf\n",
            "INFO infer_simple.py: 155: Inference time: 0.295s\n",
            "INFO infer_simple.py: 157:  | im_detect_bbox: 0.217s\n",
            "INFO infer_simple.py: 157:  | misc_bbox: 0.006s\n",
            "INFO infer_simple.py: 157:  | im_detect_mask: 0.006s\n",
            "INFO infer_simple.py: 157:  | misc_mask: 0.065s\n",
            "INFO infer_simple.py: 147: Processing demo/test_images_004.jpg -> /tmp/detectron-visualizations/test_images_004.jpg.pdf\n",
            "INFO infer_simple.py: 155: Inference time: 0.300s\n",
            "INFO infer_simple.py: 157:  | im_detect_bbox: 0.217s\n",
            "INFO infer_simple.py: 157:  | misc_bbox: 0.003s\n",
            "INFO infer_simple.py: 157:  | im_detect_mask: 0.006s\n",
            "INFO infer_simple.py: 157:  | misc_mask: 0.074s\n",
            "INFO infer_simple.py: 147: Processing demo/test_images_016.jpg -> /tmp/detectron-visualizations/test_images_016.jpg.pdf\n",
            "INFO infer_simple.py: 155: Inference time: 0.296s\n",
            "INFO infer_simple.py: 157:  | im_detect_bbox: 0.215s\n",
            "INFO infer_simple.py: 157:  | misc_bbox: 0.003s\n",
            "INFO infer_simple.py: 157:  | im_detect_mask: 0.006s\n",
            "INFO infer_simple.py: 157:  | misc_mask: 0.072s\n",
            "INFO infer_simple.py: 147: Processing demo/test_images_018.jpg -> /tmp/detectron-visualizations/test_images_018.jpg.pdf\n",
            "INFO infer_simple.py: 155: Inference time: 0.285s\n",
            "INFO infer_simple.py: 157:  | im_detect_bbox: 0.215s\n",
            "INFO infer_simple.py: 157:  | misc_bbox: 0.002s\n",
            "INFO infer_simple.py: 157:  | im_detect_mask: 0.005s\n",
            "INFO infer_simple.py: 157:  | misc_mask: 0.061s\n",
            "INFO infer_simple.py: 147: Processing demo/test_images_005.jpg -> /tmp/detectron-visualizations/test_images_005.jpg.pdf\n",
            "INFO infer_simple.py: 155: Inference time: 0.314s\n",
            "INFO infer_simple.py: 157:  | im_detect_bbox: 0.223s\n",
            "INFO infer_simple.py: 157:  | misc_bbox: 0.003s\n",
            "INFO infer_simple.py: 157:  | im_detect_mask: 0.008s\n",
            "INFO infer_simple.py: 157:  | misc_mask: 0.080s\n",
            "INFO infer_simple.py: 147: Processing demo/test_images_008.jpg -> /tmp/detectron-visualizations/test_images_008.jpg.pdf\n",
            "INFO infer_simple.py: 155: Inference time: 0.274s\n",
            "INFO infer_simple.py: 157:  | im_detect_bbox: 0.215s\n",
            "INFO infer_simple.py: 157:  | misc_bbox: 0.003s\n",
            "INFO infer_simple.py: 157:  | im_detect_mask: 0.006s\n",
            "INFO infer_simple.py: 157:  | misc_mask: 0.050s\n",
            "INFO infer_simple.py: 147: Processing demo/test_images_010.jpg -> /tmp/detectron-visualizations/test_images_010.jpg.pdf\n",
            "INFO infer_simple.py: 155: Inference time: 0.281s\n",
            "INFO infer_simple.py: 157:  | im_detect_bbox: 0.216s\n",
            "INFO infer_simple.py: 157:  | misc_bbox: 0.002s\n",
            "INFO infer_simple.py: 157:  | im_detect_mask: 0.005s\n",
            "INFO infer_simple.py: 157:  | misc_mask: 0.058s\n"
          ],
          "name": "stdout"
        }
      ]
    },
    {
      "cell_type": "code",
      "metadata": {
        "id": "X7p03D5egfHp",
        "colab_type": "code",
        "colab": {}
      },
      "source": [
        "!python /Vidinfer_simple.py --cfg /content/detectron/configs/12_2018_gn_baselines/e2e_keypoint_rcnn_R-101-FPN_s1x.yaml --output-dir demo/scating_vis --image-ext jpg --wts\n",
        "\t/pathToYourWeightFile/keypoints_coco_2014_train:keypoints_coco_2014_valminusminival/model_final.pkl\n",
        "demo/splitted_scating"
      ],
      "execution_count": 0,
      "outputs": []
    }
  ]
}